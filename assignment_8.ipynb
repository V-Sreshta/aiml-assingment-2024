{
  "nbformat": 4,
  "nbformat_minor": 0,
  "metadata": {
    "colab": {
      "provenance": []
    },
    "kernelspec": {
      "name": "python3",
      "display_name": "Python 3"
    },
    "language_info": {
      "name": "python"
    }
  },
  "cells": [
    {
      "cell_type": "code",
      "source": [],
      "metadata": {
        "id": "VVuTleYJd---"
      },
      "execution_count": null,
      "outputs": []
    },
    {
      "cell_type": "code",
      "source": [
        "import pandas as pd\n",
        "\n",
        "# Read the data\n",
        "data = pd.read_csv(\"/content/breast_cancer_survival.csv\")\n",
        "\n",
        "# Convert 'Patient_Status' to binary values\n",
        "data['Patient_Status'] = data['Patient_Status'].apply(lambda x: 1 if x == 'Alive' else 0)\n",
        "\n",
        "# Now 'Alive' is represented as 1 and 'Dead' as 0\n",
        "print(data['Patient_Status'])\n"
      ],
      "metadata": {
        "colab": {
          "base_uri": "https://localhost:8080/"
        },
        "id": "Bh-ZMfQpc-xk",
        "outputId": "27c15159-3f6b-4f04-e582-337af613afab"
      },
      "execution_count": null,
      "outputs": [
        {
          "output_type": "stream",
          "name": "stdout",
          "text": [
            "0      1\n",
            "1      0\n",
            "2      1\n",
            "3      1\n",
            "4      1\n",
            "      ..\n",
            "329    1\n",
            "330    1\n",
            "331    0\n",
            "332    1\n",
            "333    0\n",
            "Name: Patient_Status, Length: 334, dtype: int64\n"
          ]
        }
      ]
    },
    {
      "cell_type": "code",
      "source": [
        "import pandas as pd\n",
        "from roman import fromRoman\n",
        "\n",
        "# Read the data\n",
        "data = pd.read_csv(\"/content/breast_cancer_survival.csv\")\n",
        "\n",
        "# Function to convert Roman numerals to normal numbers\n",
        "def roman_to_normal(roman_numeral):\n",
        "    try:\n",
        "        return fromRoman(roman_numeral)\n",
        "    except ValueError:\n",
        "        return roman_numeral\n",
        "\n",
        "# Convert 'Tumour_Stage' column from Roman numerals to normal numbers\n",
        "data['Tumour_Stage'] = data['Tumour_Stage'].apply(roman_to_normal)\n",
        "\n",
        "# Now the 'Tumour_Stage' column should have normal numbers\n",
        "print(data['Tumour_Stage'])"
      ],
      "metadata": {
        "colab": {
          "base_uri": "https://localhost:8080/",
          "height": 384
        },
        "id": "4JLgTCf4fzrY",
        "outputId": "c6e9bec8-b12b-4491-a47c-b6345bafce07"
      },
      "execution_count": null,
      "outputs": [
        {
          "output_type": "error",
          "ename": "ModuleNotFoundError",
          "evalue": "No module named 'roman'",
          "traceback": [
            "\u001b[0;31m---------------------------------------------------------------------------\u001b[0m",
            "\u001b[0;31mModuleNotFoundError\u001b[0m                       Traceback (most recent call last)",
            "\u001b[0;32m<ipython-input-12-90d132c0bd95>\u001b[0m in \u001b[0;36m<cell line: 2>\u001b[0;34m()\u001b[0m\n\u001b[1;32m      1\u001b[0m \u001b[0;32mimport\u001b[0m \u001b[0mpandas\u001b[0m \u001b[0;32mas\u001b[0m \u001b[0mpd\u001b[0m\u001b[0;34m\u001b[0m\u001b[0;34m\u001b[0m\u001b[0m\n\u001b[0;32m----> 2\u001b[0;31m \u001b[0;32mfrom\u001b[0m \u001b[0mroman\u001b[0m \u001b[0;32mimport\u001b[0m \u001b[0mfromRoman\u001b[0m\u001b[0;34m\u001b[0m\u001b[0;34m\u001b[0m\u001b[0m\n\u001b[0m\u001b[1;32m      3\u001b[0m \u001b[0;34m\u001b[0m\u001b[0m\n\u001b[1;32m      4\u001b[0m \u001b[0;31m# Read the data\u001b[0m\u001b[0;34m\u001b[0m\u001b[0;34m\u001b[0m\u001b[0m\n\u001b[1;32m      5\u001b[0m \u001b[0mdata\u001b[0m \u001b[0;34m=\u001b[0m \u001b[0mpd\u001b[0m\u001b[0;34m.\u001b[0m\u001b[0mread_csv\u001b[0m\u001b[0;34m(\u001b[0m\u001b[0;34m\"/content/breast_cancer_survival.csv\"\u001b[0m\u001b[0;34m)\u001b[0m\u001b[0;34m\u001b[0m\u001b[0;34m\u001b[0m\u001b[0m\n",
            "\u001b[0;31mModuleNotFoundError\u001b[0m: No module named 'roman'",
            "",
            "\u001b[0;31m---------------------------------------------------------------------------\u001b[0;32m\nNOTE: If your import is failing due to a missing package, you can\nmanually install dependencies using either !pip or !apt.\n\nTo view examples of installing some common dependencies, click the\n\"Open Examples\" button below.\n\u001b[0;31m---------------------------------------------------------------------------\u001b[0m\n"
          ],
          "errorDetails": {
            "actions": [
              {
                "action": "open_url",
                "actionText": "Open Examples",
                "url": "/notebooks/snippets/importing_libraries.ipynb"
              }
            ]
          }
        }
      ]
    },
    {
      "cell_type": "code",
      "source": [
        "import pandas as pd\n",
        "\n",
        "# Assuming your DataFrame is named 'data'\n",
        "\n",
        "# Convert specific columns to numbers\n",
        "data['Protein1'] = pd.to_numeric(data['Protein1'], errors='coerce')\n",
        "data['Protein2'] = pd.to_numeric(data['Protein2'], errors='coerce')\n",
        "data['Protein3'] = pd.to_numeric(data['Protein3'], errors='coerce')\n",
        "data['Protein4'] = pd.to_numeric(data['Protein4'], errors='coerce')\n",
        "\n",
        "# Convert 'Tumour_Stage' column to numbers (assuming it contains strings like 'I', 'II', 'III', etc.)\n",
        "# If it contains Roman numerals, you may first convert them to numbers using the function you provided\n",
        "# For example:\n",
        "# data['Tumour_Stage'] = data['Tumour_Stage'].apply(roman_to_normal)\n",
        "\n",
        "# Convert other columns if needed\n",
        "\n",
        "# Now the specified columns should contain numeric values\n",
        "print(data.head())"
      ],
      "metadata": {
        "colab": {
          "base_uri": "https://localhost:8080/"
        },
        "id": "sGPcMxhyhAq8",
        "outputId": "fd7192f6-c56d-47d5-9eca-c100957ccda0"
      },
      "execution_count": null,
      "outputs": [
        {
          "output_type": "stream",
          "name": "stdout",
          "text": [
            "   Age  Gender  Protein1  Protein2  Protein3  Protein4 Tumour_Stage  \\\n",
            "0   42  FEMALE   0.95256   2.15000  0.007972 -0.048340           II   \n",
            "1   54  FEMALE   0.00000   1.38020 -0.498030 -0.507320           II   \n",
            "2   63  FEMALE  -0.52303   1.76400 -0.370190  0.010815           II   \n",
            "3   78  FEMALE  -0.87618   0.12943 -0.370380  0.132190            I   \n",
            "4   42  FEMALE   0.22611   1.74910 -0.543970 -0.390210           II   \n",
            "\n",
            "                       Histology ER status PR status HER2 status Surgery_type  \\\n",
            "0  Infiltrating Ductal Carcinoma  Positive  Positive    Negative        Other   \n",
            "1  Infiltrating Ductal Carcinoma  Positive  Positive    Negative        Other   \n",
            "2  Infiltrating Ductal Carcinoma  Positive  Positive    Negative   Lumpectomy   \n",
            "3  Infiltrating Ductal Carcinoma  Positive  Positive    Negative        Other   \n",
            "4  Infiltrating Ductal Carcinoma  Positive  Positive    Positive   Lumpectomy   \n",
            "\n",
            "  Date_of_Surgery Date_of_Last_Visit  Patient_Status  \n",
            "0       20-May-18          26-Aug-18               1  \n",
            "1       26-Apr-18          25-Jan-19               0  \n",
            "2       24-Aug-18          08-Apr-20               1  \n",
            "3       16-Nov-18          28-Jul-20               1  \n",
            "4       12-Dec-18          05-Jan-19               1  \n"
          ]
        }
      ]
    },
    {
      "cell_type": "code",
      "source": [
        "import pandas as pd\n",
        "\n",
        "# Read the data\n",
        "data = pd.read_csv(\"/content/breast_cancer_survival.csv\")\n",
        "\n",
        "# Convert specific columns to numeric\n",
        "numeric_columns = ['Age', 'Protein1', 'Protein2', 'Protein3', 'Protein4']\n",
        "data[numeric_columns] = data[numeric_columns].apply(pd.to_numeric, errors='coerce')\n",
        "\n",
        "# Now, categorical columns need special handling:\n",
        "# For example, you can use one-hot encoding for 'Gender' column:\n",
        "data = pd.get_dummies(data, columns=['Gender'], drop_first=True)  # Assuming Male is 1 and Female is 0\n",
        "\n",
        "# For 'Tumour_Stage', if it's ordinal, you may map it to numerical values:\n",
        "tumour_stage_mapping = {'I': 1, 'II': 2, 'III': 3}  # Define the mapping\n",
        "data['Tumour_Stage'] = data['Tumour_Stage'].map(tumour_stage_mapping)\n",
        "\n",
        "# Convert other categorical columns if needed\n",
        "\n",
        "# Now, the DataFrame should have numeric values where applicable\n",
        "print(data.head())"
      ],
      "metadata": {
        "colab": {
          "base_uri": "https://localhost:8080/"
        },
        "id": "aMooq2RjiaZY",
        "outputId": "d4547b54-0de2-45cd-e10f-4f880e4c31e3"
      },
      "execution_count": null,
      "outputs": [
        {
          "output_type": "stream",
          "name": "stdout",
          "text": [
            "   Age  Protein1  Protein2  Protein3  Protein4  Tumour_Stage  \\\n",
            "0   42   0.95256   2.15000  0.007972 -0.048340             2   \n",
            "1   54   0.00000   1.38020 -0.498030 -0.507320             2   \n",
            "2   63  -0.52303   1.76400 -0.370190  0.010815             2   \n",
            "3   78  -0.87618   0.12943 -0.370380  0.132190             1   \n",
            "4   42   0.22611   1.74910 -0.543970 -0.390210             2   \n",
            "\n",
            "                       Histology ER status PR status HER2 status Surgery_type  \\\n",
            "0  Infiltrating Ductal Carcinoma  Positive  Positive    Negative        Other   \n",
            "1  Infiltrating Ductal Carcinoma  Positive  Positive    Negative        Other   \n",
            "2  Infiltrating Ductal Carcinoma  Positive  Positive    Negative   Lumpectomy   \n",
            "3  Infiltrating Ductal Carcinoma  Positive  Positive    Negative        Other   \n",
            "4  Infiltrating Ductal Carcinoma  Positive  Positive    Positive   Lumpectomy   \n",
            "\n",
            "  Date_of_Surgery Date_of_Last_Visit Patient_Status  Gender_MALE  \n",
            "0       20-May-18          26-Aug-18          Alive            0  \n",
            "1       26-Apr-18          25-Jan-19           Dead            0  \n",
            "2       24-Aug-18          08-Apr-20          Alive            0  \n",
            "3       16-Nov-18          28-Jul-20          Alive            0  \n",
            "4       12-Dec-18          05-Jan-19          Alive            0  \n"
          ]
        }
      ]
    },
    {
      "cell_type": "code",
      "source": [
        "# Assuming your DataFrame is named 'data'\n",
        "\n",
        "# Map categories to numerical values\n",
        "status_mapping = {'Alive': 1, 'Dead': 0}\n",
        "\n",
        "# Convert 'Patient_Status' column to numerical values\n",
        "data['Patient_Status'] = data['Patient_Status'].map(status_mapping)\n",
        "\n",
        "# Now, the 'Patient_Status' column should contain numerical values\n",
        "print(data.head())"
      ],
      "metadata": {
        "colab": {
          "base_uri": "https://localhost:8080/"
        },
        "id": "Yqo4uGqujXk6",
        "outputId": "37f00256-d1da-4a1f-fcb5-ad3583421eac"
      },
      "execution_count": null,
      "outputs": [
        {
          "output_type": "stream",
          "name": "stdout",
          "text": [
            "   Age  Protein1  Protein2  Protein3  Protein4  Tumour_Stage  \\\n",
            "0   42   0.95256   2.15000  0.007972 -0.048340             2   \n",
            "1   54   0.00000   1.38020 -0.498030 -0.507320             2   \n",
            "2   63  -0.52303   1.76400 -0.370190  0.010815             2   \n",
            "3   78  -0.87618   0.12943 -0.370380  0.132190             1   \n",
            "4   42   0.22611   1.74910 -0.543970 -0.390210             2   \n",
            "\n",
            "                       Histology ER status PR status HER2 status Surgery_type  \\\n",
            "0  Infiltrating Ductal Carcinoma  Positive  Positive    Negative        Other   \n",
            "1  Infiltrating Ductal Carcinoma  Positive  Positive    Negative        Other   \n",
            "2  Infiltrating Ductal Carcinoma  Positive  Positive    Negative   Lumpectomy   \n",
            "3  Infiltrating Ductal Carcinoma  Positive  Positive    Negative        Other   \n",
            "4  Infiltrating Ductal Carcinoma  Positive  Positive    Positive   Lumpectomy   \n",
            "\n",
            "  Date_of_Surgery Date_of_Last_Visit  Patient_Status  Gender_MALE  \n",
            "0       20-May-18          26-Aug-18             1.0            0  \n",
            "1       26-Apr-18          25-Jan-19             0.0            0  \n",
            "2       24-Aug-18          08-Apr-20             1.0            0  \n",
            "3       16-Nov-18          28-Jul-20             1.0            0  \n",
            "4       12-Dec-18          05-Jan-19             1.0            0  \n"
          ]
        }
      ]
    },
    {
      "cell_type": "code",
      "source": [
        "data=data.drop('Histology',axis=1)\n"
      ],
      "metadata": {
        "id": "oT1EIQA_jubc"
      },
      "execution_count": null,
      "outputs": []
    },
    {
      "cell_type": "code",
      "source": [
        "print(data)"
      ],
      "metadata": {
        "colab": {
          "base_uri": "https://localhost:8080/"
        },
        "id": "wJzzUCeYj5R6",
        "outputId": "01652d1d-94ef-47cb-b2bc-de24317bd16d"
      },
      "execution_count": null,
      "outputs": [
        {
          "output_type": "stream",
          "name": "stdout",
          "text": [
            "     Age  Protein1  Protein2  Protein3  Protein4  Tumour_Stage ER status  \\\n",
            "0     42  0.952560   2.15000  0.007972 -0.048340             2  Positive   \n",
            "1     54  0.000000   1.38020 -0.498030 -0.507320             2  Positive   \n",
            "2     63 -0.523030   1.76400 -0.370190  0.010815             2  Positive   \n",
            "3     78 -0.876180   0.12943 -0.370380  0.132190             1  Positive   \n",
            "4     42  0.226110   1.74910 -0.543970 -0.390210             2  Positive   \n",
            "..   ...       ...       ...       ...       ...           ...       ...   \n",
            "329   59  0.024598   1.40050  0.024751  0.280320             2  Positive   \n",
            "330   41  0.100120  -0.46547  0.472370 -0.523870             1  Positive   \n",
            "331   54  0.753820   1.64250 -0.332850  0.857860             2  Positive   \n",
            "332   74  0.972510   1.42680 -0.366570 -0.107820             2  Positive   \n",
            "333   66  0.286380   1.39980  0.318830  0.836050             2  Positive   \n",
            "\n",
            "    PR status HER2 status                 Surgery_type Date_of_Surgery  \\\n",
            "0    Positive    Negative                        Other       20-May-18   \n",
            "1    Positive    Negative                        Other       26-Apr-18   \n",
            "2    Positive    Negative                   Lumpectomy       24-Aug-18   \n",
            "3    Positive    Negative                        Other       16-Nov-18   \n",
            "4    Positive    Positive                   Lumpectomy       12-Dec-18   \n",
            "..        ...         ...                          ...             ...   \n",
            "329  Positive    Positive                   Lumpectomy       15-Jan-19   \n",
            "330  Positive    Positive  Modified Radical Mastectomy       25-Jul-18   \n",
            "331  Positive    Negative            Simple Mastectomy       26-Mar-19   \n",
            "332  Positive    Negative                   Lumpectomy       26-Nov-18   \n",
            "333  Positive    Negative  Modified Radical Mastectomy       04-Feb-19   \n",
            "\n",
            "    Date_of_Last_Visit  Patient_Status  Gender_MALE  \n",
            "0            26-Aug-18             1.0            0  \n",
            "1            25-Jan-19             0.0            0  \n",
            "2            08-Apr-20             1.0            0  \n",
            "3            28-Jul-20             1.0            0  \n",
            "4            05-Jan-19             1.0            0  \n",
            "..                 ...             ...          ...  \n",
            "329          27-Mar-20             1.0            0  \n",
            "330          23-Apr-19             1.0            0  \n",
            "331          11-Oct-19             0.0            0  \n",
            "332          05-Dec-18             1.0            0  \n",
            "333          10-Aug-19             0.0            0  \n",
            "\n",
            "[334 rows x 14 columns]\n"
          ]
        }
      ]
    },
    {
      "cell_type": "code",
      "source": [
        "data=data.drop('PR status',axis=1)"
      ],
      "metadata": {
        "id": "pBrn8sqOkmqP"
      },
      "execution_count": null,
      "outputs": []
    },
    {
      "cell_type": "code",
      "source": [
        "print(data)"
      ],
      "metadata": {
        "colab": {
          "base_uri": "https://localhost:8080/"
        },
        "id": "FhWlBJ04k4Ue",
        "outputId": "a9a3b342-ebcc-4f6e-a3fc-1691685c5c4f"
      },
      "execution_count": null,
      "outputs": [
        {
          "output_type": "stream",
          "name": "stdout",
          "text": [
            "     Age  Protein1  Protein2  Protein3  Protein4  Tumour_Stage ER status  \\\n",
            "0     42  0.952560   2.15000  0.007972 -0.048340             2  Positive   \n",
            "1     54  0.000000   1.38020 -0.498030 -0.507320             2  Positive   \n",
            "2     63 -0.523030   1.76400 -0.370190  0.010815             2  Positive   \n",
            "3     78 -0.876180   0.12943 -0.370380  0.132190             1  Positive   \n",
            "4     42  0.226110   1.74910 -0.543970 -0.390210             2  Positive   \n",
            "..   ...       ...       ...       ...       ...           ...       ...   \n",
            "329   59  0.024598   1.40050  0.024751  0.280320             2  Positive   \n",
            "330   41  0.100120  -0.46547  0.472370 -0.523870             1  Positive   \n",
            "331   54  0.753820   1.64250 -0.332850  0.857860             2  Positive   \n",
            "332   74  0.972510   1.42680 -0.366570 -0.107820             2  Positive   \n",
            "333   66  0.286380   1.39980  0.318830  0.836050             2  Positive   \n",
            "\n",
            "    HER2 status                 Surgery_type Date_of_Surgery  \\\n",
            "0      Negative                        Other       20-May-18   \n",
            "1      Negative                        Other       26-Apr-18   \n",
            "2      Negative                   Lumpectomy       24-Aug-18   \n",
            "3      Negative                        Other       16-Nov-18   \n",
            "4      Positive                   Lumpectomy       12-Dec-18   \n",
            "..          ...                          ...             ...   \n",
            "329    Positive                   Lumpectomy       15-Jan-19   \n",
            "330    Positive  Modified Radical Mastectomy       25-Jul-18   \n",
            "331    Negative            Simple Mastectomy       26-Mar-19   \n",
            "332    Negative                   Lumpectomy       26-Nov-18   \n",
            "333    Negative  Modified Radical Mastectomy       04-Feb-19   \n",
            "\n",
            "    Date_of_Last_Visit  Patient_Status  Gender_MALE  \n",
            "0            26-Aug-18             1.0            0  \n",
            "1            25-Jan-19             0.0            0  \n",
            "2            08-Apr-20             1.0            0  \n",
            "3            28-Jul-20             1.0            0  \n",
            "4            05-Jan-19             1.0            0  \n",
            "..                 ...             ...          ...  \n",
            "329          27-Mar-20             1.0            0  \n",
            "330          23-Apr-19             1.0            0  \n",
            "331          11-Oct-19             0.0            0  \n",
            "332          05-Dec-18             1.0            0  \n",
            "333          10-Aug-19             0.0            0  \n",
            "\n",
            "[334 rows x 13 columns]\n"
          ]
        }
      ]
    },
    {
      "cell_type": "code",
      "source": [
        "data=data.drop('HER2 status',axis=1)"
      ],
      "metadata": {
        "id": "IPXHxHedlMTM"
      },
      "execution_count": null,
      "outputs": []
    },
    {
      "cell_type": "code",
      "source": [
        "print(data)"
      ],
      "metadata": {
        "colab": {
          "base_uri": "https://localhost:8080/"
        },
        "id": "-HyiqGn1lV5L",
        "outputId": "d6ba1813-4b32-419a-b3f3-3da6eb4a9bd6"
      },
      "execution_count": null,
      "outputs": [
        {
          "output_type": "stream",
          "name": "stdout",
          "text": [
            "     Age  Protein1  Protein2  Protein3  Protein4  Tumour_Stage ER status  \\\n",
            "0     42  0.952560   2.15000  0.007972 -0.048340             2  Positive   \n",
            "1     54  0.000000   1.38020 -0.498030 -0.507320             2  Positive   \n",
            "2     63 -0.523030   1.76400 -0.370190  0.010815             2  Positive   \n",
            "3     78 -0.876180   0.12943 -0.370380  0.132190             1  Positive   \n",
            "4     42  0.226110   1.74910 -0.543970 -0.390210             2  Positive   \n",
            "..   ...       ...       ...       ...       ...           ...       ...   \n",
            "329   59  0.024598   1.40050  0.024751  0.280320             2  Positive   \n",
            "330   41  0.100120  -0.46547  0.472370 -0.523870             1  Positive   \n",
            "331   54  0.753820   1.64250 -0.332850  0.857860             2  Positive   \n",
            "332   74  0.972510   1.42680 -0.366570 -0.107820             2  Positive   \n",
            "333   66  0.286380   1.39980  0.318830  0.836050             2  Positive   \n",
            "\n",
            "                    Surgery_type Date_of_Surgery Date_of_Last_Visit  \\\n",
            "0                          Other       20-May-18          26-Aug-18   \n",
            "1                          Other       26-Apr-18          25-Jan-19   \n",
            "2                     Lumpectomy       24-Aug-18          08-Apr-20   \n",
            "3                          Other       16-Nov-18          28-Jul-20   \n",
            "4                     Lumpectomy       12-Dec-18          05-Jan-19   \n",
            "..                           ...             ...                ...   \n",
            "329                   Lumpectomy       15-Jan-19          27-Mar-20   \n",
            "330  Modified Radical Mastectomy       25-Jul-18          23-Apr-19   \n",
            "331            Simple Mastectomy       26-Mar-19          11-Oct-19   \n",
            "332                   Lumpectomy       26-Nov-18          05-Dec-18   \n",
            "333  Modified Radical Mastectomy       04-Feb-19          10-Aug-19   \n",
            "\n",
            "     Patient_Status  Gender_MALE  \n",
            "0               1.0            0  \n",
            "1               0.0            0  \n",
            "2               1.0            0  \n",
            "3               1.0            0  \n",
            "4               1.0            0  \n",
            "..              ...          ...  \n",
            "329             1.0            0  \n",
            "330             1.0            0  \n",
            "331             0.0            0  \n",
            "332             1.0            0  \n",
            "333             0.0            0  \n",
            "\n",
            "[334 rows x 12 columns]\n"
          ]
        }
      ]
    },
    {
      "cell_type": "code",
      "source": [
        "print(data)"
      ],
      "metadata": {
        "colab": {
          "base_uri": "https://localhost:8080/"
        },
        "id": "n3Kd4pMnl1LS",
        "outputId": "320a96d7-000d-4733-d49d-8c88baef0162"
      },
      "execution_count": null,
      "outputs": [
        {
          "output_type": "stream",
          "name": "stdout",
          "text": [
            "     Age  Protein1  Protein2  Protein3  Protein4  Tumour_Stage  \\\n",
            "0     42  0.952560   2.15000  0.007972 -0.048340             2   \n",
            "1     54  0.000000   1.38020 -0.498030 -0.507320             2   \n",
            "2     63 -0.523030   1.76400 -0.370190  0.010815             2   \n",
            "3     78 -0.876180   0.12943 -0.370380  0.132190             1   \n",
            "4     42  0.226110   1.74910 -0.543970 -0.390210             2   \n",
            "..   ...       ...       ...       ...       ...           ...   \n",
            "329   59  0.024598   1.40050  0.024751  0.280320             2   \n",
            "330   41  0.100120  -0.46547  0.472370 -0.523870             1   \n",
            "331   54  0.753820   1.64250 -0.332850  0.857860             2   \n",
            "332   74  0.972510   1.42680 -0.366570 -0.107820             2   \n",
            "333   66  0.286380   1.39980  0.318830  0.836050             2   \n",
            "\n",
            "                    Surgery_type Date_of_Surgery Date_of_Last_Visit  \\\n",
            "0                          Other       20-May-18          26-Aug-18   \n",
            "1                          Other       26-Apr-18          25-Jan-19   \n",
            "2                     Lumpectomy       24-Aug-18          08-Apr-20   \n",
            "3                          Other       16-Nov-18          28-Jul-20   \n",
            "4                     Lumpectomy       12-Dec-18          05-Jan-19   \n",
            "..                           ...             ...                ...   \n",
            "329                   Lumpectomy       15-Jan-19          27-Mar-20   \n",
            "330  Modified Radical Mastectomy       25-Jul-18          23-Apr-19   \n",
            "331            Simple Mastectomy       26-Mar-19          11-Oct-19   \n",
            "332                   Lumpectomy       26-Nov-18          05-Dec-18   \n",
            "333  Modified Radical Mastectomy       04-Feb-19          10-Aug-19   \n",
            "\n",
            "     Patient_Status  Gender_MALE  \n",
            "0               1.0            0  \n",
            "1               0.0            0  \n",
            "2               1.0            0  \n",
            "3               1.0            0  \n",
            "4               1.0            0  \n",
            "..              ...          ...  \n",
            "329             1.0            0  \n",
            "330             1.0            0  \n",
            "331             0.0            0  \n",
            "332             1.0            0  \n",
            "333             0.0            0  \n",
            "\n",
            "[334 rows x 11 columns]\n"
          ]
        }
      ]
    },
    {
      "cell_type": "code",
      "source": [
        "data=data.drop('Surgery_type',axis=1)"
      ],
      "metadata": {
        "id": "BvTJMZDbl9im"
      },
      "execution_count": null,
      "outputs": []
    },
    {
      "cell_type": "code",
      "source": [
        "print(data)"
      ],
      "metadata": {
        "colab": {
          "base_uri": "https://localhost:8080/"
        },
        "id": "6XMgWh8wmQi5",
        "outputId": "7a019db1-c815-4e4e-eb03-d7639f3b4749"
      },
      "execution_count": null,
      "outputs": [
        {
          "output_type": "stream",
          "name": "stdout",
          "text": [
            "     Age  Protein1  Protein2  Protein3  Protein4  Tumour_Stage  \\\n",
            "0     42  0.952560   2.15000  0.007972 -0.048340             2   \n",
            "1     54  0.000000   1.38020 -0.498030 -0.507320             2   \n",
            "2     63 -0.523030   1.76400 -0.370190  0.010815             2   \n",
            "3     78 -0.876180   0.12943 -0.370380  0.132190             1   \n",
            "4     42  0.226110   1.74910 -0.543970 -0.390210             2   \n",
            "..   ...       ...       ...       ...       ...           ...   \n",
            "329   59  0.024598   1.40050  0.024751  0.280320             2   \n",
            "330   41  0.100120  -0.46547  0.472370 -0.523870             1   \n",
            "331   54  0.753820   1.64250 -0.332850  0.857860             2   \n",
            "332   74  0.972510   1.42680 -0.366570 -0.107820             2   \n",
            "333   66  0.286380   1.39980  0.318830  0.836050             2   \n",
            "\n",
            "    Date_of_Surgery Date_of_Last_Visit  Patient_Status  Gender_MALE  \n",
            "0         20-May-18          26-Aug-18             1.0            0  \n",
            "1         26-Apr-18          25-Jan-19             0.0            0  \n",
            "2         24-Aug-18          08-Apr-20             1.0            0  \n",
            "3         16-Nov-18          28-Jul-20             1.0            0  \n",
            "4         12-Dec-18          05-Jan-19             1.0            0  \n",
            "..              ...                ...             ...          ...  \n",
            "329       15-Jan-19          27-Mar-20             1.0            0  \n",
            "330       25-Jul-18          23-Apr-19             1.0            0  \n",
            "331       26-Mar-19          11-Oct-19             0.0            0  \n",
            "332       26-Nov-18          05-Dec-18             1.0            0  \n",
            "333       04-Feb-19          10-Aug-19             0.0            0  \n",
            "\n",
            "[334 rows x 10 columns]\n"
          ]
        }
      ]
    },
    {
      "cell_type": "code",
      "source": [
        "data=data.drop('Date_of_Surgery',axis=1)"
      ],
      "metadata": {
        "id": "j2wswappmUIc"
      },
      "execution_count": null,
      "outputs": []
    },
    {
      "cell_type": "code",
      "source": [
        "print(data)"
      ],
      "metadata": {
        "colab": {
          "base_uri": "https://localhost:8080/"
        },
        "id": "rwwnMCM7mjW4",
        "outputId": "841a8c5c-9fc0-4311-ef54-a57821bdd7a9"
      },
      "execution_count": null,
      "outputs": [
        {
          "output_type": "stream",
          "name": "stdout",
          "text": [
            "     Age  Protein1  Protein2  Protein3  Protein4  Tumour_Stage  \\\n",
            "0     42  0.952560   2.15000  0.007972 -0.048340             2   \n",
            "1     54  0.000000   1.38020 -0.498030 -0.507320             2   \n",
            "2     63 -0.523030   1.76400 -0.370190  0.010815             2   \n",
            "3     78 -0.876180   0.12943 -0.370380  0.132190             1   \n",
            "4     42  0.226110   1.74910 -0.543970 -0.390210             2   \n",
            "..   ...       ...       ...       ...       ...           ...   \n",
            "329   59  0.024598   1.40050  0.024751  0.280320             2   \n",
            "330   41  0.100120  -0.46547  0.472370 -0.523870             1   \n",
            "331   54  0.753820   1.64250 -0.332850  0.857860             2   \n",
            "332   74  0.972510   1.42680 -0.366570 -0.107820             2   \n",
            "333   66  0.286380   1.39980  0.318830  0.836050             2   \n",
            "\n",
            "    Date_of_Last_Visit  Patient_Status  Gender_MALE  \n",
            "0            26-Aug-18             1.0            0  \n",
            "1            25-Jan-19             0.0            0  \n",
            "2            08-Apr-20             1.0            0  \n",
            "3            28-Jul-20             1.0            0  \n",
            "4            05-Jan-19             1.0            0  \n",
            "..                 ...             ...          ...  \n",
            "329          27-Mar-20             1.0            0  \n",
            "330          23-Apr-19             1.0            0  \n",
            "331          11-Oct-19             0.0            0  \n",
            "332          05-Dec-18             1.0            0  \n",
            "333          10-Aug-19             0.0            0  \n",
            "\n",
            "[334 rows x 9 columns]\n"
          ]
        }
      ]
    },
    {
      "cell_type": "code",
      "source": [
        "data=data.drop('Date_of_Last_Visit',axis=1)"
      ],
      "metadata": {
        "id": "_ZfsxqQ6mmh1"
      },
      "execution_count": null,
      "outputs": []
    },
    {
      "cell_type": "code",
      "source": [
        "print(data)"
      ],
      "metadata": {
        "colab": {
          "base_uri": "https://localhost:8080/"
        },
        "id": "wXA-S9aLmxmj",
        "outputId": "827308bc-da0a-49d6-e6a3-9d5ebc986124"
      },
      "execution_count": null,
      "outputs": [
        {
          "output_type": "stream",
          "name": "stdout",
          "text": [
            "     Age  Protein1  Protein2  Protein3  Protein4  Tumour_Stage  \\\n",
            "0     42  0.952560   2.15000  0.007972 -0.048340             2   \n",
            "1     54  0.000000   1.38020 -0.498030 -0.507320             2   \n",
            "2     63 -0.523030   1.76400 -0.370190  0.010815             2   \n",
            "3     78 -0.876180   0.12943 -0.370380  0.132190             1   \n",
            "4     42  0.226110   1.74910 -0.543970 -0.390210             2   \n",
            "..   ...       ...       ...       ...       ...           ...   \n",
            "329   59  0.024598   1.40050  0.024751  0.280320             2   \n",
            "330   41  0.100120  -0.46547  0.472370 -0.523870             1   \n",
            "331   54  0.753820   1.64250 -0.332850  0.857860             2   \n",
            "332   74  0.972510   1.42680 -0.366570 -0.107820             2   \n",
            "333   66  0.286380   1.39980  0.318830  0.836050             2   \n",
            "\n",
            "     Patient_Status  Gender_MALE  \n",
            "0               1.0            0  \n",
            "1               0.0            0  \n",
            "2               1.0            0  \n",
            "3               1.0            0  \n",
            "4               1.0            0  \n",
            "..              ...          ...  \n",
            "329             1.0            0  \n",
            "330             1.0            0  \n",
            "331             0.0            0  \n",
            "332             1.0            0  \n",
            "333             0.0            0  \n",
            "\n",
            "[334 rows x 8 columns]\n"
          ]
        }
      ]
    },
    {
      "cell_type": "code",
      "source": [
        "print(data)\n",
        "data=data.fillna(0)"
      ],
      "metadata": {
        "colab": {
          "base_uri": "https://localhost:8080/"
        },
        "id": "VkGbsdh8m5EC",
        "outputId": "85202796-d219-41c2-e5bf-8c651a2e98c2"
      },
      "execution_count": null,
      "outputs": [
        {
          "output_type": "stream",
          "name": "stdout",
          "text": [
            "     Age  Protein1  Protein2  Protein3  Protein4  Tumour_Stage  \\\n",
            "0     42  0.952560   2.15000  0.007972 -0.048340             2   \n",
            "1     54  0.000000   1.38020 -0.498030 -0.507320             2   \n",
            "2     63 -0.523030   1.76400 -0.370190  0.010815             2   \n",
            "3     78 -0.876180   0.12943 -0.370380  0.132190             1   \n",
            "4     42  0.226110   1.74910 -0.543970 -0.390210             2   \n",
            "..   ...       ...       ...       ...       ...           ...   \n",
            "329   59  0.024598   1.40050  0.024751  0.280320             2   \n",
            "330   41  0.100120  -0.46547  0.472370 -0.523870             1   \n",
            "331   54  0.753820   1.64250 -0.332850  0.857860             2   \n",
            "332   74  0.972510   1.42680 -0.366570 -0.107820             2   \n",
            "333   66  0.286380   1.39980  0.318830  0.836050             2   \n",
            "\n",
            "     Patient_Status  Gender_MALE  \n",
            "0               1.0            0  \n",
            "1               0.0            0  \n",
            "2               1.0            0  \n",
            "3               1.0            0  \n",
            "4               1.0            0  \n",
            "..              ...          ...  \n",
            "329             1.0            0  \n",
            "330             1.0            0  \n",
            "331             0.0            0  \n",
            "332             1.0            0  \n",
            "333             0.0            0  \n",
            "\n",
            "[334 rows x 8 columns]\n"
          ]
        }
      ]
    },
    {
      "cell_type": "code",
      "source": [
        "y=data['Patient_Status']\n",
        "x=data.drop('Patient_Status',axis=1)"
      ],
      "metadata": {
        "id": "rtXUmvyxoftO"
      },
      "execution_count": null,
      "outputs": []
    },
    {
      "cell_type": "code",
      "source": [
        "from sklearn.model_selection import train_test_split\n",
        "x_train,x_test,y_train,y_test=train_test_split(x,y,test_size=0.20,random_state=32)\n"
      ],
      "metadata": {
        "id": "d3tDahdanIfq"
      },
      "execution_count": null,
      "outputs": []
    },
    {
      "cell_type": "code",
      "source": [
        "print(x_train.shape)"
      ],
      "metadata": {
        "colab": {
          "base_uri": "https://localhost:8080/"
        },
        "id": "DdPOAGcZo1DS",
        "outputId": "08c6c831-4da2-4266-cffa-0caefab81f0e"
      },
      "execution_count": null,
      "outputs": [
        {
          "output_type": "stream",
          "name": "stdout",
          "text": [
            "(267, 7)\n"
          ]
        }
      ]
    },
    {
      "cell_type": "code",
      "source": [
        "print(x_test.shape)"
      ],
      "metadata": {
        "colab": {
          "base_uri": "https://localhost:8080/"
        },
        "id": "4CiqBp3-o0_6",
        "outputId": "f1fa3162-f67a-4bac-9038-08e972974cf4"
      },
      "execution_count": null,
      "outputs": [
        {
          "output_type": "stream",
          "name": "stdout",
          "text": [
            "(67, 7)\n"
          ]
        }
      ]
    },
    {
      "cell_type": "code",
      "source": [
        "from sklearn.tree import DecisionTreeClassifier\n",
        "dt=DecisionTreeClassifier()\n",
        "model=dt.fit(x_train,y_train)"
      ],
      "metadata": {
        "id": "omrnbnFKo07Q"
      },
      "execution_count": null,
      "outputs": []
    },
    {
      "cell_type": "code",
      "source": [
        "yp=model.predict(x_test)"
      ],
      "metadata": {
        "id": "DcOBI0Z9pfrF"
      },
      "execution_count": null,
      "outputs": []
    },
    {
      "cell_type": "code",
      "source": [
        "from sklearn.metrics import accuracy_score,confusion_matrix"
      ],
      "metadata": {
        "id": "1jCN9-cGpkdR"
      },
      "execution_count": null,
      "outputs": []
    },
    {
      "cell_type": "code",
      "source": [
        "print(accuracy_score(y_test,yp))"
      ],
      "metadata": {
        "colab": {
          "base_uri": "https://localhost:8080/"
        },
        "id": "5Is4motipkZw",
        "outputId": "25e31258-7f01-41f8-df62-118b5034cf4b"
      },
      "execution_count": null,
      "outputs": [
        {
          "output_type": "stream",
          "name": "stdout",
          "text": [
            "0.47761194029850745\n"
          ]
        }
      ]
    },
    {
      "cell_type": "code",
      "source": [
        "print(confusion_matrix(y_test,yp))"
      ],
      "metadata": {
        "colab": {
          "base_uri": "https://localhost:8080/"
        },
        "id": "x1Ox-_sKpkXo",
        "outputId": "b34eb37c-51f8-46b2-c333-1931d69a0c4f"
      },
      "execution_count": null,
      "outputs": [
        {
          "output_type": "stream",
          "name": "stdout",
          "text": [
            "[[ 2 20]\n",
            " [15 30]]\n"
          ]
        }
      ]
    }
  ]
}