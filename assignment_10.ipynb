{
  "nbformat": 4,
  "nbformat_minor": 0,
  "metadata": {
    "colab": {
      "provenance": []
    },
    "kernelspec": {
      "name": "python3",
      "display_name": "Python 3"
    },
    "language_info": {
      "name": "python"
    }
  },
  "cells": [
    {
      "cell_type": "code",
      "source": [
        "import pandas as pd\n",
        "from sklearn.model_selection import train_test_split\n",
        "from sklearn.ensemble import RandomForestClassifier, AdaBoostClassifier\n",
        "from sklearn.metrics import accuracy_score, precision_score, recall_score, f1_score\n",
        "\n",
        "# a) Read the data with pandas and find features and target variables\n",
        "# Assuming your data is in a CSV file named 'data.csv' where the last column is the target variable\n",
        "data = pd.read_csv('/content/breast_cancer_survival.csv')\n",
        "X = data.iloc[:, :-1]  # Features\n",
        "y = data.iloc[:, -1]   # Target variable\n",
        "\n",
        "# b) Train Random Forest and AdaBoost\n",
        "X_train, X_test, y_train, y_test = train_test_split(X, y, test_size=0.2, random_state=42)\n",
        "\n",
        "rf_classifier = RandomForestClassifier(n_estimators=100, random_state=42)\n",
        "rf_classifier.fit(X_train, y_train)\n",
        "\n",
        "adaboost_classifier = AdaBoostClassifier(n_estimators=50, random_state=42)\n",
        "adaboost_classifier.fit(X_train, y_train)\n",
        "# c) Find accuracy, precision, recall, f1-score\n",
        "def evaluate_model(classifier, X_test, y_test):\n",
        "    y_pred = classifier.predict(X_test)\n",
        "    accuracy = accuracy_score(y_test, y_pred)\n",
        "    precision = precision_score(y_test, y_pred)\n",
        "    recall = recall_score(y_test, y_pred)\n",
        "    f1 = f1_score(y_test, y_pred)\n",
        "    return accuracy, precision, recall, f1\n",
        "\n",
        "rf_accuracy, rf_precision, rf_recall, rf_f1 = evaluate_model(rf_classifier, X_test, y_test)\n",
        "adaboost_accuracy, adaboost_precision, adaboost_recall, adaboost_f1 = evaluate_model(adaboost_classifier, X_test, y_test)\n",
        "\n",
        "print(\"Random Forest Classifier:\")\n",
        "print(\"Accuracy:\", rf_accuracy)\n",
        "print(\"Precision:\", rf_precision)\n",
        "print(\"Recall:\", rf_recall)\n",
        "print(\"F1-score:\", rf_f1)\n",
        "print(\"\\n\")\n",
        "\n",
        "print(\"AdaBoost Classifier:\")\n",
        "print(\"Accuracy:\", adaboost_accuracy)\n",
        "print(\"Precision:\", adaboost_precision)\n",
        "print(\"Recall:\", adaboost_recall)\n",
        "print(\"F1-score:\", adaboost_f1)\n"
      ],
      "metadata": {
        "colab": {
          "base_uri": "https://localhost:8080/",
          "height": 356
        },
        "id": "m7Y1BV9MiL6e",
        "outputId": "cf8bb422-f543-47bf-a351-6f4c6b96a107"
      },
      "execution_count": 5,
      "outputs": [
        {
          "output_type": "error",
          "ename": "ValueError",
          "evalue": "could not convert string to float: 'FEMALE'",
          "traceback": [
            "\u001b[0;31m---------------------------------------------------------------------------\u001b[0m",
            "\u001b[0;31mValueError\u001b[0m                                Traceback (most recent call last)",
            "\u001b[0;32m<ipython-input-5-694b1123e781>\u001b[0m in \u001b[0;36m<cell line: 16>\u001b[0;34m()\u001b[0m\n\u001b[1;32m     14\u001b[0m \u001b[0;34m\u001b[0m\u001b[0m\n\u001b[1;32m     15\u001b[0m \u001b[0mrf_classifier\u001b[0m \u001b[0;34m=\u001b[0m \u001b[0mRandomForestClassifier\u001b[0m\u001b[0;34m(\u001b[0m\u001b[0mn_estimators\u001b[0m\u001b[0;34m=\u001b[0m\u001b[0;36m100\u001b[0m\u001b[0;34m,\u001b[0m \u001b[0mrandom_state\u001b[0m\u001b[0;34m=\u001b[0m\u001b[0;36m42\u001b[0m\u001b[0;34m)\u001b[0m\u001b[0;34m\u001b[0m\u001b[0;34m\u001b[0m\u001b[0m\n\u001b[0;32m---> 16\u001b[0;31m \u001b[0mrf_classifier\u001b[0m\u001b[0;34m.\u001b[0m\u001b[0mfit\u001b[0m\u001b[0;34m(\u001b[0m\u001b[0mX_train\u001b[0m\u001b[0;34m,\u001b[0m \u001b[0my_train\u001b[0m\u001b[0;34m)\u001b[0m\u001b[0;34m\u001b[0m\u001b[0;34m\u001b[0m\u001b[0m\n\u001b[0m\u001b[1;32m     17\u001b[0m \u001b[0;34m\u001b[0m\u001b[0m\n\u001b[1;32m     18\u001b[0m \u001b[0madaboost_classifier\u001b[0m \u001b[0;34m=\u001b[0m \u001b[0mAdaBoostClassifier\u001b[0m\u001b[0;34m(\u001b[0m\u001b[0mn_estimators\u001b[0m\u001b[0;34m=\u001b[0m\u001b[0;36m50\u001b[0m\u001b[0;34m,\u001b[0m \u001b[0mrandom_state\u001b[0m\u001b[0;34m=\u001b[0m\u001b[0;36m42\u001b[0m\u001b[0;34m)\u001b[0m\u001b[0;34m\u001b[0m\u001b[0;34m\u001b[0m\u001b[0m\n",
            "\u001b[0;32m/usr/local/lib/python3.10/dist-packages/sklearn/ensemble/_forest.py\u001b[0m in \u001b[0;36mfit\u001b[0;34m(self, X, y, sample_weight)\u001b[0m\n\u001b[1;32m    343\u001b[0m         \u001b[0;32mif\u001b[0m \u001b[0missparse\u001b[0m\u001b[0;34m(\u001b[0m\u001b[0my\u001b[0m\u001b[0;34m)\u001b[0m\u001b[0;34m:\u001b[0m\u001b[0;34m\u001b[0m\u001b[0;34m\u001b[0m\u001b[0m\n\u001b[1;32m    344\u001b[0m             \u001b[0;32mraise\u001b[0m \u001b[0mValueError\u001b[0m\u001b[0;34m(\u001b[0m\u001b[0;34m\"sparse multilabel-indicator for y is not supported.\"\u001b[0m\u001b[0;34m)\u001b[0m\u001b[0;34m\u001b[0m\u001b[0;34m\u001b[0m\u001b[0m\n\u001b[0;32m--> 345\u001b[0;31m         X, y = self._validate_data(\n\u001b[0m\u001b[1;32m    346\u001b[0m             \u001b[0mX\u001b[0m\u001b[0;34m,\u001b[0m \u001b[0my\u001b[0m\u001b[0;34m,\u001b[0m \u001b[0mmulti_output\u001b[0m\u001b[0;34m=\u001b[0m\u001b[0;32mTrue\u001b[0m\u001b[0;34m,\u001b[0m \u001b[0maccept_sparse\u001b[0m\u001b[0;34m=\u001b[0m\u001b[0;34m\"csc\"\u001b[0m\u001b[0;34m,\u001b[0m \u001b[0mdtype\u001b[0m\u001b[0;34m=\u001b[0m\u001b[0mDTYPE\u001b[0m\u001b[0;34m\u001b[0m\u001b[0;34m\u001b[0m\u001b[0m\n\u001b[1;32m    347\u001b[0m         )\n",
            "\u001b[0;32m/usr/local/lib/python3.10/dist-packages/sklearn/base.py\u001b[0m in \u001b[0;36m_validate_data\u001b[0;34m(self, X, y, reset, validate_separately, **check_params)\u001b[0m\n\u001b[1;32m    582\u001b[0m                 \u001b[0my\u001b[0m \u001b[0;34m=\u001b[0m \u001b[0mcheck_array\u001b[0m\u001b[0;34m(\u001b[0m\u001b[0my\u001b[0m\u001b[0;34m,\u001b[0m \u001b[0minput_name\u001b[0m\u001b[0;34m=\u001b[0m\u001b[0;34m\"y\"\u001b[0m\u001b[0;34m,\u001b[0m \u001b[0;34m**\u001b[0m\u001b[0mcheck_y_params\u001b[0m\u001b[0;34m)\u001b[0m\u001b[0;34m\u001b[0m\u001b[0;34m\u001b[0m\u001b[0m\n\u001b[1;32m    583\u001b[0m             \u001b[0;32melse\u001b[0m\u001b[0;34m:\u001b[0m\u001b[0;34m\u001b[0m\u001b[0;34m\u001b[0m\u001b[0m\n\u001b[0;32m--> 584\u001b[0;31m                 \u001b[0mX\u001b[0m\u001b[0;34m,\u001b[0m \u001b[0my\u001b[0m \u001b[0;34m=\u001b[0m \u001b[0mcheck_X_y\u001b[0m\u001b[0;34m(\u001b[0m\u001b[0mX\u001b[0m\u001b[0;34m,\u001b[0m \u001b[0my\u001b[0m\u001b[0;34m,\u001b[0m \u001b[0;34m**\u001b[0m\u001b[0mcheck_params\u001b[0m\u001b[0;34m)\u001b[0m\u001b[0;34m\u001b[0m\u001b[0;34m\u001b[0m\u001b[0m\n\u001b[0m\u001b[1;32m    585\u001b[0m             \u001b[0mout\u001b[0m \u001b[0;34m=\u001b[0m \u001b[0mX\u001b[0m\u001b[0;34m,\u001b[0m \u001b[0my\u001b[0m\u001b[0;34m\u001b[0m\u001b[0;34m\u001b[0m\u001b[0m\n\u001b[1;32m    586\u001b[0m \u001b[0;34m\u001b[0m\u001b[0m\n",
            "\u001b[0;32m/usr/local/lib/python3.10/dist-packages/sklearn/utils/validation.py\u001b[0m in \u001b[0;36mcheck_X_y\u001b[0;34m(X, y, accept_sparse, accept_large_sparse, dtype, order, copy, force_all_finite, ensure_2d, allow_nd, multi_output, ensure_min_samples, ensure_min_features, y_numeric, estimator)\u001b[0m\n\u001b[1;32m   1104\u001b[0m         )\n\u001b[1;32m   1105\u001b[0m \u001b[0;34m\u001b[0m\u001b[0m\n\u001b[0;32m-> 1106\u001b[0;31m     X = check_array(\n\u001b[0m\u001b[1;32m   1107\u001b[0m         \u001b[0mX\u001b[0m\u001b[0;34m,\u001b[0m\u001b[0;34m\u001b[0m\u001b[0;34m\u001b[0m\u001b[0m\n\u001b[1;32m   1108\u001b[0m         \u001b[0maccept_sparse\u001b[0m\u001b[0;34m=\u001b[0m\u001b[0maccept_sparse\u001b[0m\u001b[0;34m,\u001b[0m\u001b[0;34m\u001b[0m\u001b[0;34m\u001b[0m\u001b[0m\n",
            "\u001b[0;32m/usr/local/lib/python3.10/dist-packages/sklearn/utils/validation.py\u001b[0m in \u001b[0;36mcheck_array\u001b[0;34m(array, accept_sparse, accept_large_sparse, dtype, order, copy, force_all_finite, ensure_2d, allow_nd, ensure_min_samples, ensure_min_features, estimator, input_name)\u001b[0m\n\u001b[1;32m    877\u001b[0m                     \u001b[0marray\u001b[0m \u001b[0;34m=\u001b[0m \u001b[0mxp\u001b[0m\u001b[0;34m.\u001b[0m\u001b[0mastype\u001b[0m\u001b[0;34m(\u001b[0m\u001b[0marray\u001b[0m\u001b[0;34m,\u001b[0m \u001b[0mdtype\u001b[0m\u001b[0;34m,\u001b[0m \u001b[0mcopy\u001b[0m\u001b[0;34m=\u001b[0m\u001b[0;32mFalse\u001b[0m\u001b[0;34m)\u001b[0m\u001b[0;34m\u001b[0m\u001b[0;34m\u001b[0m\u001b[0m\n\u001b[1;32m    878\u001b[0m                 \u001b[0;32melse\u001b[0m\u001b[0;34m:\u001b[0m\u001b[0;34m\u001b[0m\u001b[0;34m\u001b[0m\u001b[0m\n\u001b[0;32m--> 879\u001b[0;31m                     \u001b[0marray\u001b[0m \u001b[0;34m=\u001b[0m \u001b[0m_asarray_with_order\u001b[0m\u001b[0;34m(\u001b[0m\u001b[0marray\u001b[0m\u001b[0;34m,\u001b[0m \u001b[0morder\u001b[0m\u001b[0;34m=\u001b[0m\u001b[0morder\u001b[0m\u001b[0;34m,\u001b[0m \u001b[0mdtype\u001b[0m\u001b[0;34m=\u001b[0m\u001b[0mdtype\u001b[0m\u001b[0;34m,\u001b[0m \u001b[0mxp\u001b[0m\u001b[0;34m=\u001b[0m\u001b[0mxp\u001b[0m\u001b[0;34m)\u001b[0m\u001b[0;34m\u001b[0m\u001b[0;34m\u001b[0m\u001b[0m\n\u001b[0m\u001b[1;32m    880\u001b[0m             \u001b[0;32mexcept\u001b[0m \u001b[0mComplexWarning\u001b[0m \u001b[0;32mas\u001b[0m \u001b[0mcomplex_warning\u001b[0m\u001b[0;34m:\u001b[0m\u001b[0;34m\u001b[0m\u001b[0;34m\u001b[0m\u001b[0m\n\u001b[1;32m    881\u001b[0m                 raise ValueError(\n",
            "\u001b[0;32m/usr/local/lib/python3.10/dist-packages/sklearn/utils/_array_api.py\u001b[0m in \u001b[0;36m_asarray_with_order\u001b[0;34m(array, dtype, order, copy, xp)\u001b[0m\n\u001b[1;32m    183\u001b[0m     \u001b[0;32mif\u001b[0m \u001b[0mxp\u001b[0m\u001b[0;34m.\u001b[0m\u001b[0m__name__\u001b[0m \u001b[0;32min\u001b[0m \u001b[0;34m{\u001b[0m\u001b[0;34m\"numpy\"\u001b[0m\u001b[0;34m,\u001b[0m \u001b[0;34m\"numpy.array_api\"\u001b[0m\u001b[0;34m}\u001b[0m\u001b[0;34m:\u001b[0m\u001b[0;34m\u001b[0m\u001b[0;34m\u001b[0m\u001b[0m\n\u001b[1;32m    184\u001b[0m         \u001b[0;31m# Use NumPy API to support order\u001b[0m\u001b[0;34m\u001b[0m\u001b[0;34m\u001b[0m\u001b[0m\n\u001b[0;32m--> 185\u001b[0;31m         \u001b[0marray\u001b[0m \u001b[0;34m=\u001b[0m \u001b[0mnumpy\u001b[0m\u001b[0;34m.\u001b[0m\u001b[0masarray\u001b[0m\u001b[0;34m(\u001b[0m\u001b[0marray\u001b[0m\u001b[0;34m,\u001b[0m \u001b[0morder\u001b[0m\u001b[0;34m=\u001b[0m\u001b[0morder\u001b[0m\u001b[0;34m,\u001b[0m \u001b[0mdtype\u001b[0m\u001b[0;34m=\u001b[0m\u001b[0mdtype\u001b[0m\u001b[0;34m)\u001b[0m\u001b[0;34m\u001b[0m\u001b[0;34m\u001b[0m\u001b[0m\n\u001b[0m\u001b[1;32m    186\u001b[0m         \u001b[0;32mreturn\u001b[0m \u001b[0mxp\u001b[0m\u001b[0;34m.\u001b[0m\u001b[0masarray\u001b[0m\u001b[0;34m(\u001b[0m\u001b[0marray\u001b[0m\u001b[0;34m,\u001b[0m \u001b[0mcopy\u001b[0m\u001b[0;34m=\u001b[0m\u001b[0mcopy\u001b[0m\u001b[0;34m)\u001b[0m\u001b[0;34m\u001b[0m\u001b[0;34m\u001b[0m\u001b[0m\n\u001b[1;32m    187\u001b[0m     \u001b[0;32melse\u001b[0m\u001b[0;34m:\u001b[0m\u001b[0;34m\u001b[0m\u001b[0;34m\u001b[0m\u001b[0m\n",
            "\u001b[0;32m/usr/local/lib/python3.10/dist-packages/pandas/core/generic.py\u001b[0m in \u001b[0;36m__array__\u001b[0;34m(self, dtype)\u001b[0m\n\u001b[1;32m   1996\u001b[0m     \u001b[0;32mdef\u001b[0m \u001b[0m__array__\u001b[0m\u001b[0;34m(\u001b[0m\u001b[0mself\u001b[0m\u001b[0;34m,\u001b[0m \u001b[0mdtype\u001b[0m\u001b[0;34m:\u001b[0m \u001b[0mnpt\u001b[0m\u001b[0;34m.\u001b[0m\u001b[0mDTypeLike\u001b[0m \u001b[0;34m|\u001b[0m \u001b[0;32mNone\u001b[0m \u001b[0;34m=\u001b[0m \u001b[0;32mNone\u001b[0m\u001b[0;34m)\u001b[0m \u001b[0;34m->\u001b[0m \u001b[0mnp\u001b[0m\u001b[0;34m.\u001b[0m\u001b[0mndarray\u001b[0m\u001b[0;34m:\u001b[0m\u001b[0;34m\u001b[0m\u001b[0;34m\u001b[0m\u001b[0m\n\u001b[1;32m   1997\u001b[0m         \u001b[0mvalues\u001b[0m \u001b[0;34m=\u001b[0m \u001b[0mself\u001b[0m\u001b[0;34m.\u001b[0m\u001b[0m_values\u001b[0m\u001b[0;34m\u001b[0m\u001b[0;34m\u001b[0m\u001b[0m\n\u001b[0;32m-> 1998\u001b[0;31m         \u001b[0marr\u001b[0m \u001b[0;34m=\u001b[0m \u001b[0mnp\u001b[0m\u001b[0;34m.\u001b[0m\u001b[0masarray\u001b[0m\u001b[0;34m(\u001b[0m\u001b[0mvalues\u001b[0m\u001b[0;34m,\u001b[0m \u001b[0mdtype\u001b[0m\u001b[0;34m=\u001b[0m\u001b[0mdtype\u001b[0m\u001b[0;34m)\u001b[0m\u001b[0;34m\u001b[0m\u001b[0;34m\u001b[0m\u001b[0m\n\u001b[0m\u001b[1;32m   1999\u001b[0m         if (\n\u001b[1;32m   2000\u001b[0m             \u001b[0mastype_is_view\u001b[0m\u001b[0;34m(\u001b[0m\u001b[0mvalues\u001b[0m\u001b[0;34m.\u001b[0m\u001b[0mdtype\u001b[0m\u001b[0;34m,\u001b[0m \u001b[0marr\u001b[0m\u001b[0;34m.\u001b[0m\u001b[0mdtype\u001b[0m\u001b[0;34m)\u001b[0m\u001b[0;34m\u001b[0m\u001b[0;34m\u001b[0m\u001b[0m\n",
            "\u001b[0;31mValueError\u001b[0m: could not convert string to float: 'FEMALE'"
          ]
        }
      ]
    },
    {
      "cell_type": "code",
      "source": [
        "import pandas as pd\n",
        "from sklearn.model_selection import train_test_split\n",
        "from sklearn.ensemble import RandomForestClassifier, AdaBoostClassifier\n",
        "from sklearn.metrics import accuracy_score, precision_score, recall_score, f1_score\n",
        "\n",
        "# a) Read the data with pandas and find features and target variables\n",
        "# Assuming your data is in a CSV file named 'data.csv' where the last column is the target variable\n",
        "data = pd.read_csv('/content/breast_cancer_survival.csv')\n",
        "X = data.iloc[:, :-1]  # Features\n",
        "y = data.iloc[:, -1]   # Target variable\n",
        ""
      ],
      "metadata": {
        "id": "OnOiCD9yi9z-"
      },
      "execution_count": 9,
      "outputs": []
    },
    {
      "cell_type": "code",
      "source": [
        "import pandas as pd\n",
        "from sklearn.model_selection import train_test_split\n",
        "from sklearn.preprocessing import StandardScaler\n",
        "from sklearn.cluster import KMeans\n",
        "from sklearn.metrics import silhouette_score\n",
        "\n",
        "# Read the data with pandas\n",
        "data = pd.read_csv(\"/content/breast_cancer_survival.csv\")\n",
        "\n",
        "# Preprocessing\n",
        "data.dropna(inplace=True)\n",
        "X = data.drop(columns=[\"CUST_ID\"])\n",
        "\n",
        "# Standardize the data\n",
        "scaler = StandardScaler()\n",
        "X_scaled = scaler.fit_transform(X)\n",
        "\n",
        "# Split data into train and test sets\n",
        "X_train, X_test = train_test_split(X_scaled, test_size=0.2, random_state=42)\n",
        "\n",
        "# Apply KMeans clustering\n",
        "kmeans = KMeans(n_clusters=3, random_state=42)\n",
        "kmeans.fit(X_train)\n",
        "\n",
        "# Predict clusters\n",
        "train_clusters = kmeans.predict(X_train)\n",
        "test_clusters = kmeans.predict(X_test)\n",
        "\n",
        "# Evaluate the model\n",
        "train_silhouette_score = silhouette_score(X_train, train_clusters)\n",
        "test_silhouette_score = silhouette_score(X_test, train_clusters)\n",
        "test_silhouette_score = silhouette_score(X_test\n",
        "print(\"Train Silhouette Score:\", train_silhouette_score)\n",
        "print(\"Test Silhouette Score:\", test_silhouette_score)\n"
      ],
      "metadata": {
        "colab": {
          "base_uri": "https://localhost:8080/",
          "height": 106
        },
        "id": "UiAo201Nsf1P",
        "outputId": "dceb56c1-45a8-4347-d8be-6cfd28c672fd"
      },
      "execution_count": 16,
      "outputs": [
        {
          "output_type": "error",
          "ename": "SyntaxError",
          "evalue": "'(' was never closed (<ipython-input-16-3a9982b7742e>, line 32)",
          "traceback": [
            "\u001b[0;36m  File \u001b[0;32m\"<ipython-input-16-3a9982b7742e>\"\u001b[0;36m, line \u001b[0;32m32\u001b[0m\n\u001b[0;31m    test_silhouette_score = silhouette_score(X_test\u001b[0m\n\u001b[0m                                            ^\u001b[0m\n\u001b[0;31mSyntaxError\u001b[0m\u001b[0;31m:\u001b[0m '(' was never closed\n"
          ]
        }
      ]
    },
    {
      "cell_type": "code",
      "source": [
        "import pandas as pd\n",
        "\n",
        "# Read the data\n",
        "data = pd.read_csv(\"/content/breast_cancer_survival.csv\")\n",
        "\n",
        "# Convert 'Patient_Status' to binary values\n",
        "data['Patient_Status'] = data['Patient_Status'].apply(lambda x: 1 if x == 'Alive' else 0)\n",
        "\n",
        "# Now 'Alive' is represented as 1 and 'Dead' as 0\n",
        "print(data['Patient_Status'])\n"
      ],
      "metadata": {
        "colab": {
          "base_uri": "https://localhost:8080/"
        },
        "id": "5jYaVohxtzxY",
        "outputId": "deb10fdb-1435-4d59-fca4-8f069f0329f4"
      },
      "execution_count": 17,
      "outputs": [
        {
          "output_type": "stream",
          "name": "stdout",
          "text": [
            "0      1\n",
            "1      0\n",
            "2      1\n",
            "3      1\n",
            "4      1\n",
            "      ..\n",
            "329    1\n",
            "330    1\n",
            "331    0\n",
            "332    1\n",
            "333    0\n",
            "Name: Patient_Status, Length: 334, dtype: int64\n"
          ]
        }
      ]
    },
    {
      "cell_type": "code",
      "source": [
        "import pandas as pd\n",
        "\n",
        "# Assuming your DataFrame is named 'data'\n",
        "\n",
        "# Convert specific columns to numbers\n",
        "data['Protein1'] = pd.to_numeric(data['Protein1'], errors='coerce')\n",
        "data['Protein2'] = pd.to_numeric(data['Protein2'], errors='coerce')\n",
        "data['Protein3'] = pd.to_numeric(data['Protein3'], errors='coerce')\n",
        "data['Protein4'] = pd.to_numeric(data['Protein4'], errors='coerce')\n",
        "\n",
        "# Convert 'Tumour_Stage' column to numbers (assuming it contains strings like 'I', 'II', 'III', etc.)\n",
        "# If it contains Roman numerals, you may first convert them to numbers using the function you provided\n",
        "# For example:\n",
        "# data['Tumour_Stage'] = data['Tumour_Stage'].apply(roman_to_normal)\n",
        "\n",
        "# Convert other columns if needed\n",
        "\n",
        "# Now the specified columns should contain numeric values\n",
        "print(data.head())"
      ],
      "metadata": {
        "colab": {
          "base_uri": "https://localhost:8080/"
        },
        "id": "zCMKykeBuCKp",
        "outputId": "c038227e-3c05-42af-aa36-c9d90f0330a5"
      },
      "execution_count": 18,
      "outputs": [
        {
          "output_type": "stream",
          "name": "stdout",
          "text": [
            "   Age  Gender  Protein1  Protein2  Protein3  Protein4 Tumour_Stage  \\\n",
            "0   42  FEMALE   0.95256   2.15000  0.007972 -0.048340           II   \n",
            "1   54  FEMALE   0.00000   1.38020 -0.498030 -0.507320           II   \n",
            "2   63  FEMALE  -0.52303   1.76400 -0.370190  0.010815           II   \n",
            "3   78  FEMALE  -0.87618   0.12943 -0.370380  0.132190            I   \n",
            "4   42  FEMALE   0.22611   1.74910 -0.543970 -0.390210           II   \n",
            "\n",
            "                       Histology ER status PR status HER2 status Surgery_type  \\\n",
            "0  Infiltrating Ductal Carcinoma  Positive  Positive    Negative        Other   \n",
            "1  Infiltrating Ductal Carcinoma  Positive  Positive    Negative        Other   \n",
            "2  Infiltrating Ductal Carcinoma  Positive  Positive    Negative   Lumpectomy   \n",
            "3  Infiltrating Ductal Carcinoma  Positive  Positive    Negative        Other   \n",
            "4  Infiltrating Ductal Carcinoma  Positive  Positive    Positive   Lumpectomy   \n",
            "\n",
            "  Date_of_Surgery Date_of_Last_Visit  Patient_Status  \n",
            "0       20-May-18          26-Aug-18               1  \n",
            "1       26-Apr-18          25-Jan-19               0  \n",
            "2       24-Aug-18          08-Apr-20               1  \n",
            "3       16-Nov-18          28-Jul-20               1  \n",
            "4       12-Dec-18          05-Jan-19               1  \n"
          ]
        }
      ]
    },
    {
      "cell_type": "code",
      "source": [
        "import pandas as pd\n",
        "\n",
        "# Read the data\n",
        "data = pd.read_csv(\"/content/breast_cancer_survival.csv\")\n",
        "\n",
        "# Convert specific columns to numeric\n",
        "numeric_columns = ['Age', 'Protein1', 'Protein2', 'Protein3', 'Protein4']\n",
        "data[numeric_columns] = data[numeric_columns].apply(pd.to_numeric, errors='coerce')\n",
        "\n",
        "# Now, categorical columns need special handling:\n",
        "# For example, you can use one-hot encoding for 'Gender' column:\n",
        "data = pd.get_dummies(data, columns=['Gender'], drop_first=True)  # Assuming Male is 1 and Female is 0\n",
        "\n",
        "# For 'Tumour_Stage', if it's ordinal, you may map it to numerical values:\n",
        "tumour_stage_mapping = {'I': 1, 'II': 2, 'III': 3}  # Define the mapping\n",
        "data['Tumour_Stage'] = data['Tumour_Stage'].map(tumour_stage_mapping)\n",
        "\n",
        "# Convert other categorical columns if needed\n",
        "\n",
        "# Now, the DataFrame should have numeric values where applicable\n",
        "print(data.head())"
      ],
      "metadata": {
        "colab": {
          "base_uri": "https://localhost:8080/"
        },
        "id": "-PkhX6i2uJbp",
        "outputId": "a41c6451-0146-4169-826d-8ab772abd5b9"
      },
      "execution_count": 19,
      "outputs": [
        {
          "output_type": "stream",
          "name": "stdout",
          "text": [
            "   Age  Protein1  Protein2  Protein3  Protein4  Tumour_Stage  \\\n",
            "0   42   0.95256   2.15000  0.007972 -0.048340             2   \n",
            "1   54   0.00000   1.38020 -0.498030 -0.507320             2   \n",
            "2   63  -0.52303   1.76400 -0.370190  0.010815             2   \n",
            "3   78  -0.87618   0.12943 -0.370380  0.132190             1   \n",
            "4   42   0.22611   1.74910 -0.543970 -0.390210             2   \n",
            "\n",
            "                       Histology ER status PR status HER2 status Surgery_type  \\\n",
            "0  Infiltrating Ductal Carcinoma  Positive  Positive    Negative        Other   \n",
            "1  Infiltrating Ductal Carcinoma  Positive  Positive    Negative        Other   \n",
            "2  Infiltrating Ductal Carcinoma  Positive  Positive    Negative   Lumpectomy   \n",
            "3  Infiltrating Ductal Carcinoma  Positive  Positive    Negative        Other   \n",
            "4  Infiltrating Ductal Carcinoma  Positive  Positive    Positive   Lumpectomy   \n",
            "\n",
            "  Date_of_Surgery Date_of_Last_Visit Patient_Status  Gender_MALE  \n",
            "0       20-May-18          26-Aug-18          Alive        False  \n",
            "1       26-Apr-18          25-Jan-19           Dead        False  \n",
            "2       24-Aug-18          08-Apr-20          Alive        False  \n",
            "3       16-Nov-18          28-Jul-20          Alive        False  \n",
            "4       12-Dec-18          05-Jan-19          Alive        False  \n"
          ]
        }
      ]
    },
    {
      "cell_type": "code",
      "source": [
        "# Assuming your DataFrame is named 'data'\n",
        "\n",
        "# Map categories to numerical values\n",
        "status_mapping = {'Alive': 1, 'Dead': 0}\n",
        "\n",
        "# Convert 'Patient_Status' column to numerical values\n",
        "data['Patient_Status'] = data['Patient_Status'].map(status_mapping)\n",
        "\n",
        "# Now, the 'Patient_Status' column should contain numerical values\n",
        "print(data.head())"
      ],
      "metadata": {
        "colab": {
          "base_uri": "https://localhost:8080/"
        },
        "id": "3x9t-HrsuRJO",
        "outputId": "fc1e63c3-eb63-4aeb-810c-fcb3ab6dc3d7"
      },
      "execution_count": 20,
      "outputs": [
        {
          "output_type": "stream",
          "name": "stdout",
          "text": [
            "   Age  Protein1  Protein2  Protein3  Protein4  Tumour_Stage  \\\n",
            "0   42   0.95256   2.15000  0.007972 -0.048340             2   \n",
            "1   54   0.00000   1.38020 -0.498030 -0.507320             2   \n",
            "2   63  -0.52303   1.76400 -0.370190  0.010815             2   \n",
            "3   78  -0.87618   0.12943 -0.370380  0.132190             1   \n",
            "4   42   0.22611   1.74910 -0.543970 -0.390210             2   \n",
            "\n",
            "                       Histology ER status PR status HER2 status Surgery_type  \\\n",
            "0  Infiltrating Ductal Carcinoma  Positive  Positive    Negative        Other   \n",
            "1  Infiltrating Ductal Carcinoma  Positive  Positive    Negative        Other   \n",
            "2  Infiltrating Ductal Carcinoma  Positive  Positive    Negative   Lumpectomy   \n",
            "3  Infiltrating Ductal Carcinoma  Positive  Positive    Negative        Other   \n",
            "4  Infiltrating Ductal Carcinoma  Positive  Positive    Positive   Lumpectomy   \n",
            "\n",
            "  Date_of_Surgery Date_of_Last_Visit  Patient_Status  Gender_MALE  \n",
            "0       20-May-18          26-Aug-18             1.0        False  \n",
            "1       26-Apr-18          25-Jan-19             0.0        False  \n",
            "2       24-Aug-18          08-Apr-20             1.0        False  \n",
            "3       16-Nov-18          28-Jul-20             1.0        False  \n",
            "4       12-Dec-18          05-Jan-19             1.0        False  \n"
          ]
        }
      ]
    },
    {
      "cell_type": "code",
      "source": [
        "data=data.drop('Histology',axis=1)\n"
      ],
      "metadata": {
        "id": "S8W80HVzuWa4"
      },
      "execution_count": 21,
      "outputs": []
    },
    {
      "cell_type": "code",
      "source": [
        "print(data)"
      ],
      "metadata": {
        "colab": {
          "base_uri": "https://localhost:8080/"
        },
        "id": "oFugcGd-udsP",
        "outputId": "59d389dc-cb5b-4558-fa05-c7c4ce798103"
      },
      "execution_count": 22,
      "outputs": [
        {
          "output_type": "stream",
          "name": "stdout",
          "text": [
            "     Age  Protein1  Protein2  Protein3  Protein4  Tumour_Stage ER status  \\\n",
            "0     42  0.952560   2.15000  0.007972 -0.048340             2  Positive   \n",
            "1     54  0.000000   1.38020 -0.498030 -0.507320             2  Positive   \n",
            "2     63 -0.523030   1.76400 -0.370190  0.010815             2  Positive   \n",
            "3     78 -0.876180   0.12943 -0.370380  0.132190             1  Positive   \n",
            "4     42  0.226110   1.74910 -0.543970 -0.390210             2  Positive   \n",
            "..   ...       ...       ...       ...       ...           ...       ...   \n",
            "329   59  0.024598   1.40050  0.024751  0.280320             2  Positive   \n",
            "330   41  0.100120  -0.46547  0.472370 -0.523870             1  Positive   \n",
            "331   54  0.753820   1.64250 -0.332850  0.857860             2  Positive   \n",
            "332   74  0.972510   1.42680 -0.366570 -0.107820             2  Positive   \n",
            "333   66  0.286380   1.39980  0.318830  0.836050             2  Positive   \n",
            "\n",
            "    PR status HER2 status                 Surgery_type Date_of_Surgery  \\\n",
            "0    Positive    Negative                        Other       20-May-18   \n",
            "1    Positive    Negative                        Other       26-Apr-18   \n",
            "2    Positive    Negative                   Lumpectomy       24-Aug-18   \n",
            "3    Positive    Negative                        Other       16-Nov-18   \n",
            "4    Positive    Positive                   Lumpectomy       12-Dec-18   \n",
            "..        ...         ...                          ...             ...   \n",
            "329  Positive    Positive                   Lumpectomy       15-Jan-19   \n",
            "330  Positive    Positive  Modified Radical Mastectomy       25-Jul-18   \n",
            "331  Positive    Negative            Simple Mastectomy       26-Mar-19   \n",
            "332  Positive    Negative                   Lumpectomy       26-Nov-18   \n",
            "333  Positive    Negative  Modified Radical Mastectomy       04-Feb-19   \n",
            "\n",
            "    Date_of_Last_Visit  Patient_Status  Gender_MALE  \n",
            "0            26-Aug-18             1.0        False  \n",
            "1            25-Jan-19             0.0        False  \n",
            "2            08-Apr-20             1.0        False  \n",
            "3            28-Jul-20             1.0        False  \n",
            "4            05-Jan-19             1.0        False  \n",
            "..                 ...             ...          ...  \n",
            "329          27-Mar-20             1.0        False  \n",
            "330          23-Apr-19             1.0        False  \n",
            "331          11-Oct-19             0.0        False  \n",
            "332          05-Dec-18             1.0        False  \n",
            "333          10-Aug-19             0.0        False  \n",
            "\n",
            "[334 rows x 14 columns]\n"
          ]
        }
      ]
    },
    {
      "cell_type": "code",
      "source": [
        "data=data.drop('PR status',axis=1)"
      ],
      "metadata": {
        "id": "Dt-Fttf8uizM"
      },
      "execution_count": 23,
      "outputs": []
    },
    {
      "cell_type": "code",
      "source": [
        "print(data)"
      ],
      "metadata": {
        "colab": {
          "base_uri": "https://localhost:8080/"
        },
        "id": "XGqrIFCCusvn",
        "outputId": "b69180a5-527d-49a9-8765-015b83e48092"
      },
      "execution_count": 24,
      "outputs": [
        {
          "output_type": "stream",
          "name": "stdout",
          "text": [
            "     Age  Protein1  Protein2  Protein3  Protein4  Tumour_Stage ER status  \\\n",
            "0     42  0.952560   2.15000  0.007972 -0.048340             2  Positive   \n",
            "1     54  0.000000   1.38020 -0.498030 -0.507320             2  Positive   \n",
            "2     63 -0.523030   1.76400 -0.370190  0.010815             2  Positive   \n",
            "3     78 -0.876180   0.12943 -0.370380  0.132190             1  Positive   \n",
            "4     42  0.226110   1.74910 -0.543970 -0.390210             2  Positive   \n",
            "..   ...       ...       ...       ...       ...           ...       ...   \n",
            "329   59  0.024598   1.40050  0.024751  0.280320             2  Positive   \n",
            "330   41  0.100120  -0.46547  0.472370 -0.523870             1  Positive   \n",
            "331   54  0.753820   1.64250 -0.332850  0.857860             2  Positive   \n",
            "332   74  0.972510   1.42680 -0.366570 -0.107820             2  Positive   \n",
            "333   66  0.286380   1.39980  0.318830  0.836050             2  Positive   \n",
            "\n",
            "    HER2 status                 Surgery_type Date_of_Surgery  \\\n",
            "0      Negative                        Other       20-May-18   \n",
            "1      Negative                        Other       26-Apr-18   \n",
            "2      Negative                   Lumpectomy       24-Aug-18   \n",
            "3      Negative                        Other       16-Nov-18   \n",
            "4      Positive                   Lumpectomy       12-Dec-18   \n",
            "..          ...                          ...             ...   \n",
            "329    Positive                   Lumpectomy       15-Jan-19   \n",
            "330    Positive  Modified Radical Mastectomy       25-Jul-18   \n",
            "331    Negative            Simple Mastectomy       26-Mar-19   \n",
            "332    Negative                   Lumpectomy       26-Nov-18   \n",
            "333    Negative  Modified Radical Mastectomy       04-Feb-19   \n",
            "\n",
            "    Date_of_Last_Visit  Patient_Status  Gender_MALE  \n",
            "0            26-Aug-18             1.0        False  \n",
            "1            25-Jan-19             0.0        False  \n",
            "2            08-Apr-20             1.0        False  \n",
            "3            28-Jul-20             1.0        False  \n",
            "4            05-Jan-19             1.0        False  \n",
            "..                 ...             ...          ...  \n",
            "329          27-Mar-20             1.0        False  \n",
            "330          23-Apr-19             1.0        False  \n",
            "331          11-Oct-19             0.0        False  \n",
            "332          05-Dec-18             1.0        False  \n",
            "333          10-Aug-19             0.0        False  \n",
            "\n",
            "[334 rows x 13 columns]\n"
          ]
        }
      ]
    },
    {
      "cell_type": "code",
      "source": [
        "data=data.drop('HER2 status',axis=1)"
      ],
      "metadata": {
        "id": "rB6Pgu8kuvI_"
      },
      "execution_count": 25,
      "outputs": []
    },
    {
      "cell_type": "code",
      "source": [
        "print(data)"
      ],
      "metadata": {
        "colab": {
          "base_uri": "https://localhost:8080/"
        },
        "id": "toxVCF0Lu2eQ",
        "outputId": "2ef208c6-c6df-482b-a587-bd53b0defbfa"
      },
      "execution_count": 26,
      "outputs": [
        {
          "output_type": "stream",
          "name": "stdout",
          "text": [
            "     Age  Protein1  Protein2  Protein3  Protein4  Tumour_Stage ER status  \\\n",
            "0     42  0.952560   2.15000  0.007972 -0.048340             2  Positive   \n",
            "1     54  0.000000   1.38020 -0.498030 -0.507320             2  Positive   \n",
            "2     63 -0.523030   1.76400 -0.370190  0.010815             2  Positive   \n",
            "3     78 -0.876180   0.12943 -0.370380  0.132190             1  Positive   \n",
            "4     42  0.226110   1.74910 -0.543970 -0.390210             2  Positive   \n",
            "..   ...       ...       ...       ...       ...           ...       ...   \n",
            "329   59  0.024598   1.40050  0.024751  0.280320             2  Positive   \n",
            "330   41  0.100120  -0.46547  0.472370 -0.523870             1  Positive   \n",
            "331   54  0.753820   1.64250 -0.332850  0.857860             2  Positive   \n",
            "332   74  0.972510   1.42680 -0.366570 -0.107820             2  Positive   \n",
            "333   66  0.286380   1.39980  0.318830  0.836050             2  Positive   \n",
            "\n",
            "                    Surgery_type Date_of_Surgery Date_of_Last_Visit  \\\n",
            "0                          Other       20-May-18          26-Aug-18   \n",
            "1                          Other       26-Apr-18          25-Jan-19   \n",
            "2                     Lumpectomy       24-Aug-18          08-Apr-20   \n",
            "3                          Other       16-Nov-18          28-Jul-20   \n",
            "4                     Lumpectomy       12-Dec-18          05-Jan-19   \n",
            "..                           ...             ...                ...   \n",
            "329                   Lumpectomy       15-Jan-19          27-Mar-20   \n",
            "330  Modified Radical Mastectomy       25-Jul-18          23-Apr-19   \n",
            "331            Simple Mastectomy       26-Mar-19          11-Oct-19   \n",
            "332                   Lumpectomy       26-Nov-18          05-Dec-18   \n",
            "333  Modified Radical Mastectomy       04-Feb-19          10-Aug-19   \n",
            "\n",
            "     Patient_Status  Gender_MALE  \n",
            "0               1.0        False  \n",
            "1               0.0        False  \n",
            "2               1.0        False  \n",
            "3               1.0        False  \n",
            "4               1.0        False  \n",
            "..              ...          ...  \n",
            "329             1.0        False  \n",
            "330             1.0        False  \n",
            "331             0.0        False  \n",
            "332             1.0        False  \n",
            "333             0.0        False  \n",
            "\n",
            "[334 rows x 12 columns]\n"
          ]
        }
      ]
    },
    {
      "cell_type": "code",
      "source": [
        "print(data)"
      ],
      "metadata": {
        "colab": {
          "base_uri": "https://localhost:8080/"
        },
        "id": "fdc7LuC7u4Mf",
        "outputId": "92e329fd-e647-47e7-a473-94030b33e1ef"
      },
      "execution_count": 27,
      "outputs": [
        {
          "output_type": "stream",
          "name": "stdout",
          "text": [
            "     Age  Protein1  Protein2  Protein3  Protein4  Tumour_Stage ER status  \\\n",
            "0     42  0.952560   2.15000  0.007972 -0.048340             2  Positive   \n",
            "1     54  0.000000   1.38020 -0.498030 -0.507320             2  Positive   \n",
            "2     63 -0.523030   1.76400 -0.370190  0.010815             2  Positive   \n",
            "3     78 -0.876180   0.12943 -0.370380  0.132190             1  Positive   \n",
            "4     42  0.226110   1.74910 -0.543970 -0.390210             2  Positive   \n",
            "..   ...       ...       ...       ...       ...           ...       ...   \n",
            "329   59  0.024598   1.40050  0.024751  0.280320             2  Positive   \n",
            "330   41  0.100120  -0.46547  0.472370 -0.523870             1  Positive   \n",
            "331   54  0.753820   1.64250 -0.332850  0.857860             2  Positive   \n",
            "332   74  0.972510   1.42680 -0.366570 -0.107820             2  Positive   \n",
            "333   66  0.286380   1.39980  0.318830  0.836050             2  Positive   \n",
            "\n",
            "                    Surgery_type Date_of_Surgery Date_of_Last_Visit  \\\n",
            "0                          Other       20-May-18          26-Aug-18   \n",
            "1                          Other       26-Apr-18          25-Jan-19   \n",
            "2                     Lumpectomy       24-Aug-18          08-Apr-20   \n",
            "3                          Other       16-Nov-18          28-Jul-20   \n",
            "4                     Lumpectomy       12-Dec-18          05-Jan-19   \n",
            "..                           ...             ...                ...   \n",
            "329                   Lumpectomy       15-Jan-19          27-Mar-20   \n",
            "330  Modified Radical Mastectomy       25-Jul-18          23-Apr-19   \n",
            "331            Simple Mastectomy       26-Mar-19          11-Oct-19   \n",
            "332                   Lumpectomy       26-Nov-18          05-Dec-18   \n",
            "333  Modified Radical Mastectomy       04-Feb-19          10-Aug-19   \n",
            "\n",
            "     Patient_Status  Gender_MALE  \n",
            "0               1.0        False  \n",
            "1               0.0        False  \n",
            "2               1.0        False  \n",
            "3               1.0        False  \n",
            "4               1.0        False  \n",
            "..              ...          ...  \n",
            "329             1.0        False  \n",
            "330             1.0        False  \n",
            "331             0.0        False  \n",
            "332             1.0        False  \n",
            "333             0.0        False  \n",
            "\n",
            "[334 rows x 12 columns]\n"
          ]
        }
      ]
    },
    {
      "cell_type": "code",
      "source": [
        "data=data.drop('Surgery_type',axis=1)"
      ],
      "metadata": {
        "id": "gaxF8btYvA0G"
      },
      "execution_count": 28,
      "outputs": []
    },
    {
      "cell_type": "code",
      "source": [
        "print(data)"
      ],
      "metadata": {
        "colab": {
          "base_uri": "https://localhost:8080/"
        },
        "id": "jEw0y2ltvFh4",
        "outputId": "2a9bbeb2-349f-4d37-81b6-6221bb1c36e7"
      },
      "execution_count": 29,
      "outputs": [
        {
          "output_type": "stream",
          "name": "stdout",
          "text": [
            "     Age  Protein1  Protein2  Protein3  Protein4  Tumour_Stage ER status  \\\n",
            "0     42  0.952560   2.15000  0.007972 -0.048340             2  Positive   \n",
            "1     54  0.000000   1.38020 -0.498030 -0.507320             2  Positive   \n",
            "2     63 -0.523030   1.76400 -0.370190  0.010815             2  Positive   \n",
            "3     78 -0.876180   0.12943 -0.370380  0.132190             1  Positive   \n",
            "4     42  0.226110   1.74910 -0.543970 -0.390210             2  Positive   \n",
            "..   ...       ...       ...       ...       ...           ...       ...   \n",
            "329   59  0.024598   1.40050  0.024751  0.280320             2  Positive   \n",
            "330   41  0.100120  -0.46547  0.472370 -0.523870             1  Positive   \n",
            "331   54  0.753820   1.64250 -0.332850  0.857860             2  Positive   \n",
            "332   74  0.972510   1.42680 -0.366570 -0.107820             2  Positive   \n",
            "333   66  0.286380   1.39980  0.318830  0.836050             2  Positive   \n",
            "\n",
            "    Date_of_Surgery Date_of_Last_Visit  Patient_Status  Gender_MALE  \n",
            "0         20-May-18          26-Aug-18             1.0        False  \n",
            "1         26-Apr-18          25-Jan-19             0.0        False  \n",
            "2         24-Aug-18          08-Apr-20             1.0        False  \n",
            "3         16-Nov-18          28-Jul-20             1.0        False  \n",
            "4         12-Dec-18          05-Jan-19             1.0        False  \n",
            "..              ...                ...             ...          ...  \n",
            "329       15-Jan-19          27-Mar-20             1.0        False  \n",
            "330       25-Jul-18          23-Apr-19             1.0        False  \n",
            "331       26-Mar-19          11-Oct-19             0.0        False  \n",
            "332       26-Nov-18          05-Dec-18             1.0        False  \n",
            "333       04-Feb-19          10-Aug-19             0.0        False  \n",
            "\n",
            "[334 rows x 11 columns]\n"
          ]
        }
      ]
    },
    {
      "cell_type": "code",
      "source": [
        "data=data.drop('Date_of_Surgery',axis=1)"
      ],
      "metadata": {
        "id": "eZO6zTKgvKN0"
      },
      "execution_count": 30,
      "outputs": []
    },
    {
      "cell_type": "code",
      "source": [
        "print(data)"
      ],
      "metadata": {
        "colab": {
          "base_uri": "https://localhost:8080/"
        },
        "id": "pUm4IEUlvMJc",
        "outputId": "f5d45925-44fc-4fd3-e42d-54d8da77fb9d"
      },
      "execution_count": 31,
      "outputs": [
        {
          "output_type": "stream",
          "name": "stdout",
          "text": [
            "     Age  Protein1  Protein2  Protein3  Protein4  Tumour_Stage ER status  \\\n",
            "0     42  0.952560   2.15000  0.007972 -0.048340             2  Positive   \n",
            "1     54  0.000000   1.38020 -0.498030 -0.507320             2  Positive   \n",
            "2     63 -0.523030   1.76400 -0.370190  0.010815             2  Positive   \n",
            "3     78 -0.876180   0.12943 -0.370380  0.132190             1  Positive   \n",
            "4     42  0.226110   1.74910 -0.543970 -0.390210             2  Positive   \n",
            "..   ...       ...       ...       ...       ...           ...       ...   \n",
            "329   59  0.024598   1.40050  0.024751  0.280320             2  Positive   \n",
            "330   41  0.100120  -0.46547  0.472370 -0.523870             1  Positive   \n",
            "331   54  0.753820   1.64250 -0.332850  0.857860             2  Positive   \n",
            "332   74  0.972510   1.42680 -0.366570 -0.107820             2  Positive   \n",
            "333   66  0.286380   1.39980  0.318830  0.836050             2  Positive   \n",
            "\n",
            "    Date_of_Last_Visit  Patient_Status  Gender_MALE  \n",
            "0            26-Aug-18             1.0        False  \n",
            "1            25-Jan-19             0.0        False  \n",
            "2            08-Apr-20             1.0        False  \n",
            "3            28-Jul-20             1.0        False  \n",
            "4            05-Jan-19             1.0        False  \n",
            "..                 ...             ...          ...  \n",
            "329          27-Mar-20             1.0        False  \n",
            "330          23-Apr-19             1.0        False  \n",
            "331          11-Oct-19             0.0        False  \n",
            "332          05-Dec-18             1.0        False  \n",
            "333          10-Aug-19             0.0        False  \n",
            "\n",
            "[334 rows x 10 columns]\n"
          ]
        }
      ]
    },
    {
      "cell_type": "code",
      "source": [
        "data=data.drop('Date_of_Last_Visit',axis=1)"
      ],
      "metadata": {
        "id": "bRktILeQvV_o"
      },
      "execution_count": 32,
      "outputs": []
    },
    {
      "cell_type": "code",
      "source": [
        "print(data)"
      ],
      "metadata": {
        "colab": {
          "base_uri": "https://localhost:8080/"
        },
        "id": "AtnnnFw9vYLD",
        "outputId": "e69988d3-94cf-4260-d5b1-05200172e27b"
      },
      "execution_count": 33,
      "outputs": [
        {
          "output_type": "stream",
          "name": "stdout",
          "text": [
            "     Age  Protein1  Protein2  Protein3  Protein4  Tumour_Stage ER status  \\\n",
            "0     42  0.952560   2.15000  0.007972 -0.048340             2  Positive   \n",
            "1     54  0.000000   1.38020 -0.498030 -0.507320             2  Positive   \n",
            "2     63 -0.523030   1.76400 -0.370190  0.010815             2  Positive   \n",
            "3     78 -0.876180   0.12943 -0.370380  0.132190             1  Positive   \n",
            "4     42  0.226110   1.74910 -0.543970 -0.390210             2  Positive   \n",
            "..   ...       ...       ...       ...       ...           ...       ...   \n",
            "329   59  0.024598   1.40050  0.024751  0.280320             2  Positive   \n",
            "330   41  0.100120  -0.46547  0.472370 -0.523870             1  Positive   \n",
            "331   54  0.753820   1.64250 -0.332850  0.857860             2  Positive   \n",
            "332   74  0.972510   1.42680 -0.366570 -0.107820             2  Positive   \n",
            "333   66  0.286380   1.39980  0.318830  0.836050             2  Positive   \n",
            "\n",
            "     Patient_Status  Gender_MALE  \n",
            "0               1.0        False  \n",
            "1               0.0        False  \n",
            "2               1.0        False  \n",
            "3               1.0        False  \n",
            "4               1.0        False  \n",
            "..              ...          ...  \n",
            "329             1.0        False  \n",
            "330             1.0        False  \n",
            "331             0.0        False  \n",
            "332             1.0        False  \n",
            "333             0.0        False  \n",
            "\n",
            "[334 rows x 9 columns]\n"
          ]
        }
      ]
    },
    {
      "cell_type": "code",
      "source": [
        "print(data)\n",
        "data=data.fillna(0)"
      ],
      "metadata": {
        "colab": {
          "base_uri": "https://localhost:8080/"
        },
        "id": "vs14syA-vjwg",
        "outputId": "64223bb9-89f7-4084-f920-44e8093e7a1e"
      },
      "execution_count": 34,
      "outputs": [
        {
          "output_type": "stream",
          "name": "stdout",
          "text": [
            "     Age  Protein1  Protein2  Protein3  Protein4  Tumour_Stage ER status  \\\n",
            "0     42  0.952560   2.15000  0.007972 -0.048340             2  Positive   \n",
            "1     54  0.000000   1.38020 -0.498030 -0.507320             2  Positive   \n",
            "2     63 -0.523030   1.76400 -0.370190  0.010815             2  Positive   \n",
            "3     78 -0.876180   0.12943 -0.370380  0.132190             1  Positive   \n",
            "4     42  0.226110   1.74910 -0.543970 -0.390210             2  Positive   \n",
            "..   ...       ...       ...       ...       ...           ...       ...   \n",
            "329   59  0.024598   1.40050  0.024751  0.280320             2  Positive   \n",
            "330   41  0.100120  -0.46547  0.472370 -0.523870             1  Positive   \n",
            "331   54  0.753820   1.64250 -0.332850  0.857860             2  Positive   \n",
            "332   74  0.972510   1.42680 -0.366570 -0.107820             2  Positive   \n",
            "333   66  0.286380   1.39980  0.318830  0.836050             2  Positive   \n",
            "\n",
            "     Patient_Status  Gender_MALE  \n",
            "0               1.0        False  \n",
            "1               0.0        False  \n",
            "2               1.0        False  \n",
            "3               1.0        False  \n",
            "4               1.0        False  \n",
            "..              ...          ...  \n",
            "329             1.0        False  \n",
            "330             1.0        False  \n",
            "331             0.0        False  \n",
            "332             1.0        False  \n",
            "333             0.0        False  \n",
            "\n",
            "[334 rows x 9 columns]\n"
          ]
        }
      ]
    },
    {
      "cell_type": "code",
      "source": [
        "y=data['Patient_Status']\n",
        "x=data.drop('Patient_Status',axis=1)"
      ],
      "metadata": {
        "id": "3HhhbNxUvpkM"
      },
      "execution_count": 35,
      "outputs": []
    },
    {
      "cell_type": "code",
      "source": [
        "from sklearn.model_selection import train_test_split\n",
        "x_train,x_test,y_train,y_test=train_test_split(x,y,test_size=0.20,random_state=32)\n"
      ],
      "metadata": {
        "id": "3QP86tQ7vrku"
      },
      "execution_count": 36,
      "outputs": []
    },
    {
      "cell_type": "code",
      "source": [
        "print(x_train.shape)"
      ],
      "metadata": {
        "colab": {
          "base_uri": "https://localhost:8080/"
        },
        "id": "bF8aEbAYv3s0",
        "outputId": "cdb4c6d4-dc48-4565-8c95-969561552ff8"
      },
      "execution_count": 37,
      "outputs": [
        {
          "output_type": "stream",
          "name": "stdout",
          "text": [
            "(267, 8)\n"
          ]
        }
      ]
    },
    {
      "cell_type": "code",
      "source": [
        "print(x_test.shape)"
      ],
      "metadata": {
        "colab": {
          "base_uri": "https://localhost:8080/"
        },
        "id": "XUZLe5KCv8yP",
        "outputId": "b13ae7f2-3412-43e9-c3a6-8b537455b652"
      },
      "execution_count": 38,
      "outputs": [
        {
          "output_type": "stream",
          "name": "stdout",
          "text": [
            "(67, 8)\n"
          ]
        }
      ]
    },
    {
      "cell_type": "code",
      "source": [
        "data=data.drop('ER status',axis=1)"
      ],
      "metadata": {
        "id": "TTrbm_W8w8k3"
      },
      "execution_count": 43,
      "outputs": []
    },
    {
      "cell_type": "code",
      "source": [
        "print(data)"
      ],
      "metadata": {
        "colab": {
          "base_uri": "https://localhost:8080/"
        },
        "id": "NItsYY4LxI9D",
        "outputId": "7d28c873-ca91-410f-831c-336df96d8734"
      },
      "execution_count": 44,
      "outputs": [
        {
          "output_type": "stream",
          "name": "stdout",
          "text": [
            "     Age  Protein1  Protein2  Protein3  Protein4  Tumour_Stage  \\\n",
            "0     42  0.952560   2.15000  0.007972 -0.048340             2   \n",
            "1     54  0.000000   1.38020 -0.498030 -0.507320             2   \n",
            "2     63 -0.523030   1.76400 -0.370190  0.010815             2   \n",
            "3     78 -0.876180   0.12943 -0.370380  0.132190             1   \n",
            "4     42  0.226110   1.74910 -0.543970 -0.390210             2   \n",
            "..   ...       ...       ...       ...       ...           ...   \n",
            "329   59  0.024598   1.40050  0.024751  0.280320             2   \n",
            "330   41  0.100120  -0.46547  0.472370 -0.523870             1   \n",
            "331   54  0.753820   1.64250 -0.332850  0.857860             2   \n",
            "332   74  0.972510   1.42680 -0.366570 -0.107820             2   \n",
            "333   66  0.286380   1.39980  0.318830  0.836050             2   \n",
            "\n",
            "     Patient_Status  Gender_MALE  \n",
            "0               1.0        False  \n",
            "1               0.0        False  \n",
            "2               1.0        False  \n",
            "3               1.0        False  \n",
            "4               1.0        False  \n",
            "..              ...          ...  \n",
            "329             1.0        False  \n",
            "330             1.0        False  \n",
            "331             0.0        False  \n",
            "332             1.0        False  \n",
            "333             0.0        False  \n",
            "\n",
            "[334 rows x 8 columns]\n"
          ]
        }
      ]
    },
    {
      "cell_type": "code",
      "source": [
        "data=data.drop('Gender_MALE',axis=1)"
      ],
      "metadata": {
        "id": "BWsHVjT8xRY6"
      },
      "execution_count": 45,
      "outputs": []
    },
    {
      "cell_type": "code",
      "source": [
        "print(data)"
      ],
      "metadata": {
        "colab": {
          "base_uri": "https://localhost:8080/"
        },
        "id": "GbROg5ctxbRx",
        "outputId": "017e6453-8268-494b-f8ef-d26bd5449eb4"
      },
      "execution_count": 46,
      "outputs": [
        {
          "output_type": "stream",
          "name": "stdout",
          "text": [
            "     Age  Protein1  Protein2  Protein3  Protein4  Tumour_Stage  Patient_Status\n",
            "0     42  0.952560   2.15000  0.007972 -0.048340             2             1.0\n",
            "1     54  0.000000   1.38020 -0.498030 -0.507320             2             0.0\n",
            "2     63 -0.523030   1.76400 -0.370190  0.010815             2             1.0\n",
            "3     78 -0.876180   0.12943 -0.370380  0.132190             1             1.0\n",
            "4     42  0.226110   1.74910 -0.543970 -0.390210             2             1.0\n",
            "..   ...       ...       ...       ...       ...           ...             ...\n",
            "329   59  0.024598   1.40050  0.024751  0.280320             2             1.0\n",
            "330   41  0.100120  -0.46547  0.472370 -0.523870             1             1.0\n",
            "331   54  0.753820   1.64250 -0.332850  0.857860             2             0.0\n",
            "332   74  0.972510   1.42680 -0.366570 -0.107820             2             1.0\n",
            "333   66  0.286380   1.39980  0.318830  0.836050             2             0.0\n",
            "\n",
            "[334 rows x 7 columns]\n"
          ]
        }
      ]
    },
    {
      "cell_type": "code",
      "source": [
        "y=data['Patient_Status']\n",
        "x=data.drop('Patient_Status',axis=1)"
      ],
      "metadata": {
        "id": "w0U2PiuIxpJp"
      },
      "execution_count": 52,
      "outputs": []
    },
    {
      "cell_type": "code",
      "source": [
        "print(x.shape)\n",
        ""
      ],
      "metadata": {
        "colab": {
          "base_uri": "https://localhost:8080/"
        },
        "id": "FXZoqYAqyUDu",
        "outputId": "4472ea6f-76c7-4e85-f3de-d94f40aad0a9"
      },
      "execution_count": 59,
      "outputs": [
        {
          "output_type": "stream",
          "name": "stdout",
          "text": [
            "(334, 6)\n"
          ]
        }
      ]
    },
    {
      "cell_type": "code",
      "source": [
        "from sklearn.model_selection import train_test_split\n",
        "x_train,x_test,y_train,y_test=train_test_split(x,y,test_size=0.20,random_state=21)"
      ],
      "metadata": {
        "id": "lZPP_rgEx7Bp"
      },
      "execution_count": 61,
      "outputs": []
    },
    {
      "cell_type": "code",
      "source": [
        "from sklearn.tree import DecisionTreeClassifier\n",
        "dt=DecisionTreeClassifier()\n",
        "model=dt.fit(x_train,y_train)"
      ],
      "metadata": {
        "id": "JwXmzBthxi3x"
      },
      "execution_count": 62,
      "outputs": []
    },
    {
      "cell_type": "code",
      "source": [
        "yp=model.predict(x_test)"
      ],
      "metadata": {
        "id": "bQ4PZPGKzC7-"
      },
      "execution_count": 63,
      "outputs": []
    },
    {
      "cell_type": "code",
      "source": [
        "from sklearn.metrics import accuracy_score,confusion_matrix"
      ],
      "metadata": {
        "id": "pzPsKdHZzHH7"
      },
      "execution_count": 64,
      "outputs": []
    },
    {
      "cell_type": "code",
      "source": [
        "print(accuracy_score(y_test,yp))"
      ],
      "metadata": {
        "colab": {
          "base_uri": "https://localhost:8080/"
        },
        "id": "DlYtaVYYzLWp",
        "outputId": "879be79d-c1f0-4d10-a307-249ed4096f47"
      },
      "execution_count": 65,
      "outputs": [
        {
          "output_type": "stream",
          "name": "stdout",
          "text": [
            "0.5970149253731343\n"
          ]
        }
      ]
    },
    {
      "cell_type": "code",
      "source": [
        "print(confusion_matrix(y_test,yp))"
      ],
      "metadata": {
        "colab": {
          "base_uri": "https://localhost:8080/"
        },
        "id": "MyDXoAQ5zPvl",
        "outputId": "4d937219-7662-4685-946d-25e2ba592551"
      },
      "execution_count": 66,
      "outputs": [
        {
          "output_type": "stream",
          "name": "stdout",
          "text": [
            "[[ 4  9]\n",
            " [18 36]]\n"
          ]
        }
      ]
    }
  ]
}